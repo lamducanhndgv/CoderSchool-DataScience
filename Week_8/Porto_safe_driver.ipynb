{
  "nbformat": 4,
  "nbformat_minor": 0,
  "metadata": {
    "kernelspec": {
      "display_name": "Python 3",
      "language": "python",
      "name": "python3"
    },
    "language_info": {
      "codemirror_mode": {
        "name": "ipython",
        "version": 3
      },
      "file_extension": ".py",
      "mimetype": "text/x-python",
      "name": "python",
      "nbconvert_exporter": "python",
      "pygments_lexer": "ipython3",
      "version": "3.7.0"
    },
    "colab": {
      "name": "Porto_safe_driver.ipynb",
      "version": "0.3.2",
      "provenance": [],
      "collapsed_sections": [],
      "toc_visible": true
    }
  },
  "cells": [
    {
      "cell_type": "markdown",
      "metadata": {
        "id": "PFSTTvdIBmlN",
        "colab_type": "text"
      },
      "source": [
        "Porto Seguro's Safe Driver Prediction\n",
        "===="
      ]
    },
    {
      "cell_type": "markdown",
      "metadata": {
        "id": "rXubPiTzBmlP",
        "colab_type": "text"
      },
      "source": [
        "## Introduction\n",
        "[This competition](https://www.kaggle.com/c/porto-seguro-safe-driver-prediction/data) is hosted by the third largest insurance company in Brazil: Porto Seguro with the task of predicting the probability that a driver will initiate an insurance claim in the next year.\n",
        "\n",
        "In the train data, features that belong to similar groupings are tagged as such in the feature names (e.g., ind, reg, car, calc). In addition, feature names include the postfix bin to indicate binary features and cat to indicate categorical features. Features without these designations are either continuous or ordinal. **Values of -1 indicate that the feature was missing** from the observation. The target columns signifies whether or not a claim was filed for that policy holder\n",
        "\n",
        "train.csv contains the training data, where each row corresponds to a policy holder, and the target columns signifies that a claim was filed.\n"
      ]
    },
    {
      "cell_type": "code",
      "metadata": {
        "id": "UlkmzoOABmlQ",
        "colab_type": "code",
        "colab": {}
      },
      "source": [
        "# Import libraries\n",
        "# Your code here\n",
        "import numpy as np \n",
        "import pandas as pd \n",
        "import matplotlib.pyplot as plt\n",
        "import seaborn as sns\n"
      ],
      "execution_count": 0,
      "outputs": []
    },
    {
      "cell_type": "markdown",
      "metadata": {
        "id": "7G6WACoPE2Af",
        "colab_type": "text"
      },
      "source": [
        "Download library for unzip *.7z"
      ]
    },
    {
      "cell_type": "code",
      "metadata": {
        "id": "MqUhj_6XFYDc",
        "colab_type": "code",
        "outputId": "6515bd31-e94b-48f6-ac75-39562706e44b",
        "colab": {
          "base_uri": "https://localhost:8080/",
          "height": 454
        }
      },
      "source": [
        "!apt-get install p7zip-full\n",
        "!p7zip -d train.7z\n"
      ],
      "execution_count": 0,
      "outputs": [
        {
          "output_type": "stream",
          "text": [
            "Reading package lists... Done\n",
            "Building dependency tree       \n",
            "Reading state information... Done\n",
            "p7zip-full is already the newest version (16.02+dfsg-6).\n",
            "0 upgraded, 0 newly installed, 0 to remove and 8 not upgraded.\n",
            "\n",
            "7-Zip (a) [64] 16.02 : Copyright (c) 1999-2016 Igor Pavlov : 2016-05-21\n",
            "p7zip Version 16.02 (locale=en_US.UTF-8,Utf16=on,HugeFiles=on,64 bits,2 CPUs Intel(R) Xeon(R) CPU @ 2.30GHz (306F0),ASM,AES-NI)\n",
            "\n",
            "Scanning the drive for archives:\n",
            "  0M Scan\b\b\b\b\b\b\b\b\b         \b\b\b\b\b\b\b\b\b1 file, 17022819 bytes (17 MiB)\n",
            "\n",
            "Extracting archive: train.7z\n",
            "--\n",
            "Path = train.7z\n",
            "Type = 7z\n",
            "Physical Size = 17022819\n",
            "Headers Size = 122\n",
            "Method = LZMA2:24\n",
            "Solid = -\n",
            "Blocks = 1\n",
            "\n",
            "  0%\b\b\b\b    \b\b\b\b 14% - train.csv\b\b\b\b\b\b\b\b\b\b\b\b\b\b\b\b                \b\b\b\b\b\b\b\b\b\b\b\b\b\b\b\b 28% - train.csv\b\b\b\b\b\b\b\b\b\b\b\b\b\b\b\b                \b\b\b\b\b\b\b\b\b\b\b\b\b\b\b\b 42% - train.csv\b\b\b\b\b\b\b\b\b\b\b\b\b\b\b\b                \b\b\b\b\b\b\b\b\b\b\b\b\b\b\b\b 55% - train.csv\b\b\b\b\b\b\b\b\b\b\b\b\b\b\b\b                \b\b\b\b\b\b\b\b\b\b\b\b\b\b\b\b 67% - train.csv\b\b\b\b\b\b\b\b\b\b\b\b\b\b\b\b                \b\b\b\b\b\b\b\b\b\b\b\b\b\b\b\b 79% - train.csv\b\b\b\b\b\b\b\b\b\b\b\b\b\b\b\b                \b\b\b\b\b\b\b\b\b\b\b\b\b\b\b\b 94% - train.csv\b\b\b\b\b\b\b\b\b\b\b\b\b\b\b\b                \b\b\b\b\b\b\b\b\b\b\b\b\b\b\b\bEverything is Ok\n",
            "\n",
            "Size:       115852544\n",
            "Compressed: 17022819\n"
          ],
          "name": "stdout"
        }
      ]
    },
    {
      "cell_type": "code",
      "metadata": {
        "id": "n8uUm6VCBmlX",
        "colab_type": "code",
        "colab": {}
      },
      "source": [
        "# Read csv file and take a look at it\n",
        "train = pd.read_csv('./train.csv')\n"
      ],
      "execution_count": 0,
      "outputs": []
    },
    {
      "cell_type": "code",
      "metadata": {
        "id": "v7pteGLXFunK",
        "colab_type": "code",
        "outputId": "dcdba073-4cd8-4f1f-80a3-4470d994d039",
        "colab": {
          "base_uri": "https://localhost:8080/",
          "height": 215
        }
      },
      "source": [
        "# print some first rows of dataset\n",
        "train.head()"
      ],
      "execution_count": 0,
      "outputs": [
        {
          "output_type": "execute_result",
          "data": {
            "text/html": [
              "<div>\n",
              "<style scoped>\n",
              "    .dataframe tbody tr th:only-of-type {\n",
              "        vertical-align: middle;\n",
              "    }\n",
              "\n",
              "    .dataframe tbody tr th {\n",
              "        vertical-align: top;\n",
              "    }\n",
              "\n",
              "    .dataframe thead th {\n",
              "        text-align: right;\n",
              "    }\n",
              "</style>\n",
              "<table border=\"1\" class=\"dataframe\">\n",
              "  <thead>\n",
              "    <tr style=\"text-align: right;\">\n",
              "      <th></th>\n",
              "      <th>id</th>\n",
              "      <th>target</th>\n",
              "      <th>ps_ind_01</th>\n",
              "      <th>ps_ind_02_cat</th>\n",
              "      <th>ps_ind_03</th>\n",
              "      <th>ps_ind_04_cat</th>\n",
              "      <th>ps_ind_05_cat</th>\n",
              "      <th>ps_ind_06_bin</th>\n",
              "      <th>ps_ind_07_bin</th>\n",
              "      <th>ps_ind_08_bin</th>\n",
              "      <th>ps_ind_09_bin</th>\n",
              "      <th>ps_ind_10_bin</th>\n",
              "      <th>ps_ind_11_bin</th>\n",
              "      <th>ps_ind_12_bin</th>\n",
              "      <th>ps_ind_13_bin</th>\n",
              "      <th>ps_ind_14</th>\n",
              "      <th>ps_ind_15</th>\n",
              "      <th>ps_ind_16_bin</th>\n",
              "      <th>ps_ind_17_bin</th>\n",
              "      <th>ps_ind_18_bin</th>\n",
              "      <th>ps_reg_01</th>\n",
              "      <th>ps_reg_02</th>\n",
              "      <th>ps_reg_03</th>\n",
              "      <th>ps_car_01_cat</th>\n",
              "      <th>ps_car_02_cat</th>\n",
              "      <th>ps_car_03_cat</th>\n",
              "      <th>ps_car_04_cat</th>\n",
              "      <th>ps_car_05_cat</th>\n",
              "      <th>ps_car_06_cat</th>\n",
              "      <th>ps_car_07_cat</th>\n",
              "      <th>ps_car_08_cat</th>\n",
              "      <th>ps_car_09_cat</th>\n",
              "      <th>ps_car_10_cat</th>\n",
              "      <th>ps_car_11_cat</th>\n",
              "      <th>ps_car_11</th>\n",
              "      <th>ps_car_12</th>\n",
              "      <th>ps_car_13</th>\n",
              "      <th>ps_car_14</th>\n",
              "      <th>ps_car_15</th>\n",
              "      <th>ps_calc_01</th>\n",
              "      <th>ps_calc_02</th>\n",
              "      <th>ps_calc_03</th>\n",
              "      <th>ps_calc_04</th>\n",
              "      <th>ps_calc_05</th>\n",
              "      <th>ps_calc_06</th>\n",
              "      <th>ps_calc_07</th>\n",
              "      <th>ps_calc_08</th>\n",
              "      <th>ps_calc_09</th>\n",
              "      <th>ps_calc_10</th>\n",
              "      <th>ps_calc_11</th>\n",
              "      <th>ps_calc_12</th>\n",
              "      <th>ps_calc_13</th>\n",
              "      <th>ps_calc_14</th>\n",
              "      <th>ps_calc_15_bin</th>\n",
              "      <th>ps_calc_16_bin</th>\n",
              "      <th>ps_calc_17_bin</th>\n",
              "      <th>ps_calc_18_bin</th>\n",
              "      <th>ps_calc_19_bin</th>\n",
              "      <th>ps_calc_20_bin</th>\n",
              "    </tr>\n",
              "  </thead>\n",
              "  <tbody>\n",
              "    <tr>\n",
              "      <th>0</th>\n",
              "      <td>7</td>\n",
              "      <td>0</td>\n",
              "      <td>2</td>\n",
              "      <td>2</td>\n",
              "      <td>5</td>\n",
              "      <td>1</td>\n",
              "      <td>0</td>\n",
              "      <td>0</td>\n",
              "      <td>1</td>\n",
              "      <td>0</td>\n",
              "      <td>0</td>\n",
              "      <td>0</td>\n",
              "      <td>0</td>\n",
              "      <td>0</td>\n",
              "      <td>0</td>\n",
              "      <td>0</td>\n",
              "      <td>11</td>\n",
              "      <td>0</td>\n",
              "      <td>1</td>\n",
              "      <td>0</td>\n",
              "      <td>0.7</td>\n",
              "      <td>0.2</td>\n",
              "      <td>0.718070</td>\n",
              "      <td>10</td>\n",
              "      <td>1</td>\n",
              "      <td>-1</td>\n",
              "      <td>0</td>\n",
              "      <td>1</td>\n",
              "      <td>4</td>\n",
              "      <td>1</td>\n",
              "      <td>0</td>\n",
              "      <td>0</td>\n",
              "      <td>1</td>\n",
              "      <td>12</td>\n",
              "      <td>2</td>\n",
              "      <td>0.400000</td>\n",
              "      <td>0.883679</td>\n",
              "      <td>0.370810</td>\n",
              "      <td>3.605551</td>\n",
              "      <td>0.6</td>\n",
              "      <td>0.5</td>\n",
              "      <td>0.2</td>\n",
              "      <td>3</td>\n",
              "      <td>1</td>\n",
              "      <td>10</td>\n",
              "      <td>1</td>\n",
              "      <td>10</td>\n",
              "      <td>1</td>\n",
              "      <td>5</td>\n",
              "      <td>9</td>\n",
              "      <td>1</td>\n",
              "      <td>5</td>\n",
              "      <td>8</td>\n",
              "      <td>0</td>\n",
              "      <td>1</td>\n",
              "      <td>1</td>\n",
              "      <td>0</td>\n",
              "      <td>0</td>\n",
              "      <td>1</td>\n",
              "    </tr>\n",
              "    <tr>\n",
              "      <th>1</th>\n",
              "      <td>9</td>\n",
              "      <td>0</td>\n",
              "      <td>1</td>\n",
              "      <td>1</td>\n",
              "      <td>7</td>\n",
              "      <td>0</td>\n",
              "      <td>0</td>\n",
              "      <td>0</td>\n",
              "      <td>0</td>\n",
              "      <td>1</td>\n",
              "      <td>0</td>\n",
              "      <td>0</td>\n",
              "      <td>0</td>\n",
              "      <td>0</td>\n",
              "      <td>0</td>\n",
              "      <td>0</td>\n",
              "      <td>3</td>\n",
              "      <td>0</td>\n",
              "      <td>0</td>\n",
              "      <td>1</td>\n",
              "      <td>0.8</td>\n",
              "      <td>0.4</td>\n",
              "      <td>0.766078</td>\n",
              "      <td>11</td>\n",
              "      <td>1</td>\n",
              "      <td>-1</td>\n",
              "      <td>0</td>\n",
              "      <td>-1</td>\n",
              "      <td>11</td>\n",
              "      <td>1</td>\n",
              "      <td>1</td>\n",
              "      <td>2</td>\n",
              "      <td>1</td>\n",
              "      <td>19</td>\n",
              "      <td>3</td>\n",
              "      <td>0.316228</td>\n",
              "      <td>0.618817</td>\n",
              "      <td>0.388716</td>\n",
              "      <td>2.449490</td>\n",
              "      <td>0.3</td>\n",
              "      <td>0.1</td>\n",
              "      <td>0.3</td>\n",
              "      <td>2</td>\n",
              "      <td>1</td>\n",
              "      <td>9</td>\n",
              "      <td>5</td>\n",
              "      <td>8</td>\n",
              "      <td>1</td>\n",
              "      <td>7</td>\n",
              "      <td>3</td>\n",
              "      <td>1</td>\n",
              "      <td>1</td>\n",
              "      <td>9</td>\n",
              "      <td>0</td>\n",
              "      <td>1</td>\n",
              "      <td>1</td>\n",
              "      <td>0</td>\n",
              "      <td>1</td>\n",
              "      <td>0</td>\n",
              "    </tr>\n",
              "    <tr>\n",
              "      <th>2</th>\n",
              "      <td>13</td>\n",
              "      <td>0</td>\n",
              "      <td>5</td>\n",
              "      <td>4</td>\n",
              "      <td>9</td>\n",
              "      <td>1</td>\n",
              "      <td>0</td>\n",
              "      <td>0</td>\n",
              "      <td>0</td>\n",
              "      <td>1</td>\n",
              "      <td>0</td>\n",
              "      <td>0</td>\n",
              "      <td>0</td>\n",
              "      <td>0</td>\n",
              "      <td>0</td>\n",
              "      <td>0</td>\n",
              "      <td>12</td>\n",
              "      <td>1</td>\n",
              "      <td>0</td>\n",
              "      <td>0</td>\n",
              "      <td>0.0</td>\n",
              "      <td>0.0</td>\n",
              "      <td>-1.000000</td>\n",
              "      <td>7</td>\n",
              "      <td>1</td>\n",
              "      <td>-1</td>\n",
              "      <td>0</td>\n",
              "      <td>-1</td>\n",
              "      <td>14</td>\n",
              "      <td>1</td>\n",
              "      <td>1</td>\n",
              "      <td>2</td>\n",
              "      <td>1</td>\n",
              "      <td>60</td>\n",
              "      <td>1</td>\n",
              "      <td>0.316228</td>\n",
              "      <td>0.641586</td>\n",
              "      <td>0.347275</td>\n",
              "      <td>3.316625</td>\n",
              "      <td>0.5</td>\n",
              "      <td>0.7</td>\n",
              "      <td>0.1</td>\n",
              "      <td>2</td>\n",
              "      <td>2</td>\n",
              "      <td>9</td>\n",
              "      <td>1</td>\n",
              "      <td>8</td>\n",
              "      <td>2</td>\n",
              "      <td>7</td>\n",
              "      <td>4</td>\n",
              "      <td>2</td>\n",
              "      <td>7</td>\n",
              "      <td>7</td>\n",
              "      <td>0</td>\n",
              "      <td>1</td>\n",
              "      <td>1</td>\n",
              "      <td>0</td>\n",
              "      <td>1</td>\n",
              "      <td>0</td>\n",
              "    </tr>\n",
              "    <tr>\n",
              "      <th>3</th>\n",
              "      <td>16</td>\n",
              "      <td>0</td>\n",
              "      <td>0</td>\n",
              "      <td>1</td>\n",
              "      <td>2</td>\n",
              "      <td>0</td>\n",
              "      <td>0</td>\n",
              "      <td>1</td>\n",
              "      <td>0</td>\n",
              "      <td>0</td>\n",
              "      <td>0</td>\n",
              "      <td>0</td>\n",
              "      <td>0</td>\n",
              "      <td>0</td>\n",
              "      <td>0</td>\n",
              "      <td>0</td>\n",
              "      <td>8</td>\n",
              "      <td>1</td>\n",
              "      <td>0</td>\n",
              "      <td>0</td>\n",
              "      <td>0.9</td>\n",
              "      <td>0.2</td>\n",
              "      <td>0.580948</td>\n",
              "      <td>7</td>\n",
              "      <td>1</td>\n",
              "      <td>0</td>\n",
              "      <td>0</td>\n",
              "      <td>1</td>\n",
              "      <td>11</td>\n",
              "      <td>1</td>\n",
              "      <td>1</td>\n",
              "      <td>3</td>\n",
              "      <td>1</td>\n",
              "      <td>104</td>\n",
              "      <td>1</td>\n",
              "      <td>0.374166</td>\n",
              "      <td>0.542949</td>\n",
              "      <td>0.294958</td>\n",
              "      <td>2.000000</td>\n",
              "      <td>0.6</td>\n",
              "      <td>0.9</td>\n",
              "      <td>0.1</td>\n",
              "      <td>2</td>\n",
              "      <td>4</td>\n",
              "      <td>7</td>\n",
              "      <td>1</td>\n",
              "      <td>8</td>\n",
              "      <td>4</td>\n",
              "      <td>2</td>\n",
              "      <td>2</td>\n",
              "      <td>2</td>\n",
              "      <td>4</td>\n",
              "      <td>9</td>\n",
              "      <td>0</td>\n",
              "      <td>0</td>\n",
              "      <td>0</td>\n",
              "      <td>0</td>\n",
              "      <td>0</td>\n",
              "      <td>0</td>\n",
              "    </tr>\n",
              "    <tr>\n",
              "      <th>4</th>\n",
              "      <td>17</td>\n",
              "      <td>0</td>\n",
              "      <td>0</td>\n",
              "      <td>2</td>\n",
              "      <td>0</td>\n",
              "      <td>1</td>\n",
              "      <td>0</td>\n",
              "      <td>1</td>\n",
              "      <td>0</td>\n",
              "      <td>0</td>\n",
              "      <td>0</td>\n",
              "      <td>0</td>\n",
              "      <td>0</td>\n",
              "      <td>0</td>\n",
              "      <td>0</td>\n",
              "      <td>0</td>\n",
              "      <td>9</td>\n",
              "      <td>1</td>\n",
              "      <td>0</td>\n",
              "      <td>0</td>\n",
              "      <td>0.7</td>\n",
              "      <td>0.6</td>\n",
              "      <td>0.840759</td>\n",
              "      <td>11</td>\n",
              "      <td>1</td>\n",
              "      <td>-1</td>\n",
              "      <td>0</td>\n",
              "      <td>-1</td>\n",
              "      <td>14</td>\n",
              "      <td>1</td>\n",
              "      <td>1</td>\n",
              "      <td>2</td>\n",
              "      <td>1</td>\n",
              "      <td>82</td>\n",
              "      <td>3</td>\n",
              "      <td>0.316070</td>\n",
              "      <td>0.565832</td>\n",
              "      <td>0.365103</td>\n",
              "      <td>2.000000</td>\n",
              "      <td>0.4</td>\n",
              "      <td>0.6</td>\n",
              "      <td>0.0</td>\n",
              "      <td>2</td>\n",
              "      <td>2</td>\n",
              "      <td>6</td>\n",
              "      <td>3</td>\n",
              "      <td>10</td>\n",
              "      <td>2</td>\n",
              "      <td>12</td>\n",
              "      <td>3</td>\n",
              "      <td>1</td>\n",
              "      <td>1</td>\n",
              "      <td>3</td>\n",
              "      <td>0</td>\n",
              "      <td>0</td>\n",
              "      <td>0</td>\n",
              "      <td>1</td>\n",
              "      <td>1</td>\n",
              "      <td>0</td>\n",
              "    </tr>\n",
              "  </tbody>\n",
              "</table>\n",
              "</div>"
            ],
            "text/plain": [
              "   id  target  ps_ind_01  ...  ps_calc_18_bin  ps_calc_19_bin  ps_calc_20_bin\n",
              "0   7       0          2  ...               0               0               1\n",
              "1   9       0          1  ...               0               1               0\n",
              "2  13       0          5  ...               0               1               0\n",
              "3  16       0          0  ...               0               0               0\n",
              "4  17       0          0  ...               1               1               0\n",
              "\n",
              "[5 rows x 59 columns]"
            ]
          },
          "metadata": {
            "tags": []
          },
          "execution_count": 7
        }
      ]
    },
    {
      "cell_type": "code",
      "metadata": {
        "id": "4NPHLNlBBmla",
        "colab_type": "code",
        "outputId": "16edb847-b249-4837-f9f5-9151c6752313",
        "colab": {
          "base_uri": "https://localhost:8080/",
          "height": 34
        }
      },
      "source": [
        "# Taking a look at how many rows and columns the train dataset contains\n",
        "rows = len(train) # Your code here\n",
        "columns = len(train.columns) # Your code here\n",
        "print(\"The train dataset contains {} rows and {} columns\".format(rows, columns))"
      ],
      "execution_count": 0,
      "outputs": [
        {
          "output_type": "stream",
          "text": [
            "The train dataset contains 595212 rows and 59 columns\n"
          ],
          "name": "stdout"
        }
      ]
    },
    {
      "cell_type": "code",
      "metadata": {
        "id": "n2O5vba5GQr2",
        "colab_type": "code",
        "outputId": "567bc822-ec28-45c0-d51e-21a6709c7f54",
        "colab": {
          "base_uri": "https://localhost:8080/",
          "height": 1000
        }
      },
      "source": [
        "train.info()"
      ],
      "execution_count": 0,
      "outputs": [
        {
          "output_type": "stream",
          "text": [
            "<class 'pandas.core.frame.DataFrame'>\n",
            "RangeIndex: 595212 entries, 0 to 595211\n",
            "Data columns (total 59 columns):\n",
            "id                595212 non-null int64\n",
            "target            595212 non-null int64\n",
            "ps_ind_01         595212 non-null int64\n",
            "ps_ind_02_cat     595212 non-null int64\n",
            "ps_ind_03         595212 non-null int64\n",
            "ps_ind_04_cat     595212 non-null int64\n",
            "ps_ind_05_cat     595212 non-null int64\n",
            "ps_ind_06_bin     595212 non-null int64\n",
            "ps_ind_07_bin     595212 non-null int64\n",
            "ps_ind_08_bin     595212 non-null int64\n",
            "ps_ind_09_bin     595212 non-null int64\n",
            "ps_ind_10_bin     595212 non-null int64\n",
            "ps_ind_11_bin     595212 non-null int64\n",
            "ps_ind_12_bin     595212 non-null int64\n",
            "ps_ind_13_bin     595212 non-null int64\n",
            "ps_ind_14         595212 non-null int64\n",
            "ps_ind_15         595212 non-null int64\n",
            "ps_ind_16_bin     595212 non-null int64\n",
            "ps_ind_17_bin     595212 non-null int64\n",
            "ps_ind_18_bin     595212 non-null int64\n",
            "ps_reg_01         595212 non-null float64\n",
            "ps_reg_02         595212 non-null float64\n",
            "ps_reg_03         595212 non-null float64\n",
            "ps_car_01_cat     595212 non-null int64\n",
            "ps_car_02_cat     595212 non-null int64\n",
            "ps_car_03_cat     595212 non-null int64\n",
            "ps_car_04_cat     595212 non-null int64\n",
            "ps_car_05_cat     595212 non-null int64\n",
            "ps_car_06_cat     595212 non-null int64\n",
            "ps_car_07_cat     595212 non-null int64\n",
            "ps_car_08_cat     595212 non-null int64\n",
            "ps_car_09_cat     595212 non-null int64\n",
            "ps_car_10_cat     595212 non-null int64\n",
            "ps_car_11_cat     595212 non-null int64\n",
            "ps_car_11         595212 non-null int64\n",
            "ps_car_12         595212 non-null float64\n",
            "ps_car_13         595212 non-null float64\n",
            "ps_car_14         595212 non-null float64\n",
            "ps_car_15         595212 non-null float64\n",
            "ps_calc_01        595212 non-null float64\n",
            "ps_calc_02        595212 non-null float64\n",
            "ps_calc_03        595212 non-null float64\n",
            "ps_calc_04        595212 non-null int64\n",
            "ps_calc_05        595212 non-null int64\n",
            "ps_calc_06        595212 non-null int64\n",
            "ps_calc_07        595212 non-null int64\n",
            "ps_calc_08        595212 non-null int64\n",
            "ps_calc_09        595212 non-null int64\n",
            "ps_calc_10        595212 non-null int64\n",
            "ps_calc_11        595212 non-null int64\n",
            "ps_calc_12        595212 non-null int64\n",
            "ps_calc_13        595212 non-null int64\n",
            "ps_calc_14        595212 non-null int64\n",
            "ps_calc_15_bin    595212 non-null int64\n",
            "ps_calc_16_bin    595212 non-null int64\n",
            "ps_calc_17_bin    595212 non-null int64\n",
            "ps_calc_18_bin    595212 non-null int64\n",
            "ps_calc_19_bin    595212 non-null int64\n",
            "ps_calc_20_bin    595212 non-null int64\n",
            "dtypes: float64(10), int64(49)\n",
            "memory usage: 267.9 MB\n"
          ],
          "name": "stdout"
        }
      ]
    },
    {
      "cell_type": "code",
      "metadata": {
        "id": "IY5zaikyJlkf",
        "colab_type": "code",
        "colab": {}
      },
      "source": [
        "# convert category data\n",
        "\n",
        "for i in filter(lambda x: '_cat' in x, train.columns):\n",
        "  train[i] = train[i].astype('category')"
      ],
      "execution_count": 0,
      "outputs": []
    },
    {
      "cell_type": "markdown",
      "metadata": {
        "id": "xRRTLguhBmle",
        "colab_type": "text"
      },
      "source": [
        "## 1. Data Quality Checks"
      ]
    },
    {
      "cell_type": "markdown",
      "metadata": {
        "id": "G2k0MeY4Bmlf",
        "colab_type": "text"
      },
      "source": [
        "### Null or missing values check\n",
        "Let check whether there are any null values in the train dataset as follows:"
      ]
    },
    {
      "cell_type": "code",
      "metadata": {
        "id": "Ok4UaWXWBmlf",
        "colab_type": "code",
        "outputId": "7cb0a4bc-2d43-4135-c919-d6df16651a95",
        "colab": {
          "base_uri": "https://localhost:8080/",
          "height": 34
        }
      },
      "source": [
        "# Your code here\n",
        "train.isna().any().any()"
      ],
      "execution_count": 0,
      "outputs": [
        {
          "output_type": "execute_result",
          "data": {
            "text/plain": [
              "False"
            ]
          },
          "metadata": {
            "tags": []
          },
          "execution_count": 10
        }
      ]
    },
    {
      "cell_type": "markdown",
      "metadata": {
        "id": "J2EsV-1CBmli",
        "colab_type": "text"
      },
      "source": [
        "**Note:** Our null values check returns False but however, this does not really mean that this case has been closed as the data is also described as *\"Values of -1 indicate that the feature was missing from the observation\"*. Therefore I take it that Porto Seguro has simply conducted a blanket replacement of all null values in the data with the value of -1. Let us now inspect if there where any missing values in the data."
      ]
    },
    {
      "cell_type": "markdown",
      "metadata": {
        "id": "9_mN_7sJBmli",
        "colab_type": "text"
      },
      "source": [
        "Here we can see that which columns contained -1 in their values so we could easily for example make a blanket replacement of all -1 with nulls first as follows:"
      ]
    },
    {
      "cell_type": "code",
      "metadata": {
        "id": "F3Mca33zBmlj",
        "colab_type": "code",
        "colab": {}
      },
      "source": [
        "train_copy = train.copy()\n",
        "train_copy = train_copy.replace(-1, np.NaN)"
      ],
      "execution_count": 0,
      "outputs": []
    },
    {
      "cell_type": "markdown",
      "metadata": {
        "id": "A7oEoH0zBmll",
        "colab_type": "text"
      },
      "source": [
        "We can use \"Missingno\" to visualize missing values in the dataset."
      ]
    },
    {
      "cell_type": "code",
      "metadata": {
        "id": "-Jt3BCdeBmlm",
        "colab_type": "code",
        "outputId": "8cf330da-e336-4379-a414-08944c11a057",
        "colab": {
          "base_uri": "https://localhost:8080/",
          "height": 939
        }
      },
      "source": [
        "# If you don't have \"Missingno\" package, use this command to install\n",
        "# (Linux) conda install -c conda-forge missingno\n",
        "import missingno as msno\n",
        "\n",
        "msno.matrix(df=train_copy.iloc[:, 2:39], figsize=(20, 14), color=(0.42, 0.1, 0.05))"
      ],
      "execution_count": 0,
      "outputs": [
        {
          "output_type": "execute_result",
          "data": {
            "text/plain": [
              "<matplotlib.axes._subplots.AxesSubplot at 0x7fce980657b8>"
            ]
          },
          "metadata": {
            "tags": []
          },
          "execution_count": 17
        },
        {
          "output_type": "display_data",
          "data": {
            "image/png": "[encoded data removed]",
            "text/plain": [
              "<Figure size 1440x1008 with 2 Axes>"
            ]
          },
          "metadata": {
            "tags": []
          }
        }
      ]
    },
    {
      "cell_type": "code",
      "metadata": {
        "id": "pBPQOJCUBmlo",
        "colab_type": "code",
        "outputId": "eb7db2c5-a9f2-433f-8171-11b3a2b17845",
        "colab": {
          "base_uri": "https://localhost:8080/",
          "height": 252
        }
      },
      "source": [
        "# List null columns name\n",
        "# Hint: isnull()\n",
        "# Your code here\n",
        "num_null = train_copy.isnull().sum()\n",
        "num_null[num_null > 0].sort_values()"
      ],
      "execution_count": 0,
      "outputs": [
        {
          "output_type": "execute_result",
          "data": {
            "text/plain": [
              "ps_car_12             1\n",
              "ps_car_02_cat         5\n",
              "ps_car_11             5\n",
              "ps_ind_04_cat        83\n",
              "ps_car_01_cat       107\n",
              "ps_ind_02_cat       216\n",
              "ps_car_09_cat       569\n",
              "ps_ind_05_cat      5809\n",
              "ps_car_07_cat     11489\n",
              "ps_car_14         42620\n",
              "ps_reg_03        107772\n",
              "ps_car_05_cat    266551\n",
              "ps_car_03_cat    411231\n",
              "dtype: int64"
            ]
          },
          "metadata": {
            "tags": []
          },
          "execution_count": 18
        }
      ]
    },
    {
      "cell_type": "markdown",
      "metadata": {
        "id": "gPePOFIKBmlq",
        "colab_type": "text"
      },
      "source": [
        "#### Target variable inspection"
      ]
    },
    {
      "cell_type": "code",
      "metadata": {
        "id": "utvydgHwBmlq",
        "colab_type": "code",
        "outputId": "d78411af-c4e1-40be-b94c-d6d6952ec35b",
        "colab": {
          "base_uri": "https://localhost:8080/",
          "height": 300
        }
      },
      "source": [
        "# Using countplot to represent target\n",
        "# Your code here\n",
        "\n",
        "sns.countplot(x = 'target', data = train_copy)"
      ],
      "execution_count": 0,
      "outputs": [
        {
          "output_type": "execute_result",
          "data": {
            "text/plain": [
              "<matplotlib.axes._subplots.AxesSubplot at 0x7fce940e3048>"
            ]
          },
          "metadata": {
            "tags": []
          },
          "execution_count": 19
        },
        {
          "output_type": "display_data",
          "data": {
            "image/png": "[encoded data removed]",
            "text/plain": [
              "<Figure size 432x288 with 1 Axes>"
            ]
          },
          "metadata": {
            "tags": []
          }
        }
      ]
    },
    {
      "cell_type": "markdown",
      "metadata": {
        "id": "nISAScwgBmlt",
        "colab_type": "text"
      },
      "source": [
        "## 2. Feature inspection and filtering"
      ]
    },
    {
      "cell_type": "markdown",
      "metadata": {
        "id": "d1_V-tygBmlt",
        "colab_type": "text"
      },
      "source": [
        "### Correlation plots\n",
        "As a starter, let us generate some linear correlation plots just to have a quick look at how a feature is linearly correlated to the next and perhaps start gaining some insights from here. At this juncture, I will use the seaborn statistical visualisation package to plot a heatmap of the correlation values. Conveniently, Pandas dataframes come with the corr() method inbuilt, which calculates the Pearson correlation. Also as convenient is Seaborn's way of invoking a correlation plot. Just literally the word \"heatmap\""
      ]
    },
    {
      "cell_type": "markdown",
      "metadata": {
        "id": "HnG9ottvBmlu",
        "colab_type": "text"
      },
      "source": [
        "#### Correlation of float features"
      ]
    },
    {
      "cell_type": "code",
      "metadata": {
        "id": "U2nWQ90uBmlv",
        "colab_type": "code",
        "colab": {}
      },
      "source": [
        "train_float = train.select_dtypes(include=['float64']) ###\n",
        "train_int = train.select_dtypes(include=['int64'])     ###"
      ],
      "execution_count": 0,
      "outputs": []
    },
    {
      "cell_type": "code",
      "metadata": {
        "id": "ysFy2_x_Bmlw",
        "colab_type": "code",
        "outputId": "ecd8652b-2ed0-4efc-85e8-4ea09e7846d6",
        "colab": {
          "base_uri": "https://localhost:8080/",
          "height": 752
        }
      },
      "source": [
        "colormap = plt.cm.magma\n",
        "plt.figure(figsize=(16, 12))\n",
        "plt.title(\"Pearson correlation of continuous features\", y=1.05, size=15)\n",
        "sns.heatmap(train_float.corr(), linewidths=0.1, vmax=1.0, square=True,\n",
        "           cmap=colormap)\n",
        "plt.show()"
      ],
      "execution_count": 0,
      "outputs": [
        {
          "output_type": "display_data",
          "data": {
            "image/png": "[encoded data removed]",
            "text/plain": [
              "<Figure size 1152x864 with 2 Axes>"
            ]
          },
          "metadata": {
            "tags": []
          }
        }
      ]
    },
    {
      "cell_type": "markdown",
      "metadata": {
        "id": "knxU5Y0DBmly",
        "colab_type": "text"
      },
      "source": [
        "From the correlation plot, we can see that the majority of the features display zero or no correlation to one another. This is quite an interesting observation that will warrant our further investigation later down. For now, the paired features that display a positive linear correlation are listed as follows:\n",
        "\n",
        "(ps_reg_01, ps_reg_03)\n",
        "\n",
        "(ps_reg_02, ps_reg_03)\n",
        "\n",
        "(ps_car_12, ps_car_13)\n",
        "\n",
        "(ps_car_13, ps_car_15)"
      ]
    },
    {
      "cell_type": "markdown",
      "metadata": {
        "id": "qWG7q7e-Bmlz",
        "colab_type": "text"
      },
      "source": [
        "### Correlation of integer features"
      ]
    },
    {
      "cell_type": "code",
      "metadata": {
        "id": "HHskbaDWBmlz",
        "colab_type": "code",
        "outputId": "f3490f1b-d620-49fc-de0b-b28a4f74d1a7",
        "colab": {
          "base_uri": "https://localhost:8080/",
          "height": 1000
        }
      },
      "source": [
        "# Your code here\n",
        "# Hint: correlation of train_int\n",
        "colormap = plt.cm.magma\n",
        "plt.figure(figsize=(20, 20))\n",
        "plt.title(\"Pearson correlation of continuous features\", y=1.1, size=20)\n",
        "sns.heatmap(train_int.corr(), linewidths=0.1, vmax=1.0, square=True,\n",
        "           cmap=colormap)\n",
        "plt.show()"
      ],
      "execution_count": 0,
      "outputs": [
        {
          "output_type": "display_data",
          "data": {
            "image/png": "[encoded data removed]",
            "text/plain": [
              "<Figure size 1440x1440 with 2 Axes>"
            ]
          },
          "metadata": {
            "tags": []
          }
        }
      ]
    },
    {
      "cell_type": "markdown",
      "metadata": {
        "id": "YSbfn_pjBml1",
        "colab_type": "text"
      },
      "source": [
        "#### Which features have negatively correlation?\n",
        "Negatively correlated features : \n",
        "(ps_ind_16_bin, ps_ind_17_bin)\n",
        "(ps_ind_16_bin, ps_ind_18_bin)\n",
        "(ps_ind_15, ps_ind_18_bin)\n"
      ]
    },
    {
      "cell_type": "markdown",
      "metadata": {
        "id": "FVh0NcRiBml1",
        "colab_type": "text"
      },
      "source": [
        "### Binary features inspection\n",
        "Another aspect of the data that we may want to inspect would be the coulmns that only contain binary valeus, i.e where values take on only either of the two values 1 or 0. Proceeding, we store all columns that contain these binary values and then generate a vertical plotly bar plot of these binary values as follows:"
      ]
    },
    {
      "cell_type": "code",
      "metadata": {
        "id": "2Tf2F6_oBml2",
        "colab_type": "code",
        "colab": {}
      },
      "source": [
        "bin_col = list(filter(lambda x: '_bin' in x, train.columns))\n",
        "bin_value_counts = train[bin_col].apply(pd.value_counts)"
      ],
      "execution_count": 0,
      "outputs": []
    },
    {
      "cell_type": "code",
      "metadata": {
        "id": "D1TRxUCiBml3",
        "colab_type": "code",
        "outputId": "45a76e55-c978-4a85-8178-fab7995d53c1",
        "colab": {
          "base_uri": "https://localhost:8080/",
          "height": 126
        }
      },
      "source": [
        "bin_value_counts"
      ],
      "execution_count": 0,
      "outputs": [
        {
          "output_type": "execute_result",
          "data": {
            "text/html": [
              "<div>\n",
              "<style scoped>\n",
              "    .dataframe tbody tr th:only-of-type {\n",
              "        vertical-align: middle;\n",
              "    }\n",
              "\n",
              "    .dataframe tbody tr th {\n",
              "        vertical-align: top;\n",
              "    }\n",
              "\n",
              "    .dataframe thead th {\n",
              "        text-align: right;\n",
              "    }\n",
              "</style>\n",
              "<table border=\"1\" class=\"dataframe\">\n",
              "  <thead>\n",
              "    <tr style=\"text-align: right;\">\n",
              "      <th></th>\n",
              "      <th>ps_ind_06_bin</th>\n",
              "      <th>ps_ind_07_bin</th>\n",
              "      <th>ps_ind_08_bin</th>\n",
              "      <th>ps_ind_09_bin</th>\n",
              "      <th>ps_ind_10_bin</th>\n",
              "      <th>ps_ind_11_bin</th>\n",
              "      <th>ps_ind_12_bin</th>\n",
              "      <th>ps_ind_13_bin</th>\n",
              "      <th>ps_ind_16_bin</th>\n",
              "      <th>ps_ind_17_bin</th>\n",
              "      <th>ps_ind_18_bin</th>\n",
              "      <th>ps_calc_15_bin</th>\n",
              "      <th>ps_calc_16_bin</th>\n",
              "      <th>ps_calc_17_bin</th>\n",
              "      <th>ps_calc_18_bin</th>\n",
              "      <th>ps_calc_19_bin</th>\n",
              "      <th>ps_calc_20_bin</th>\n",
              "    </tr>\n",
              "  </thead>\n",
              "  <tbody>\n",
              "    <tr>\n",
              "      <th>0</th>\n",
              "      <td>360852</td>\n",
              "      <td>442223</td>\n",
              "      <td>497644</td>\n",
              "      <td>484917</td>\n",
              "      <td>594990</td>\n",
              "      <td>594205</td>\n",
              "      <td>589594</td>\n",
              "      <td>594648</td>\n",
              "      <td>201882</td>\n",
              "      <td>523143</td>\n",
              "      <td>503879</td>\n",
              "      <td>522342</td>\n",
              "      <td>221514</td>\n",
              "      <td>265356</td>\n",
              "      <td>424278</td>\n",
              "      <td>387469</td>\n",
              "      <td>503955</td>\n",
              "    </tr>\n",
              "    <tr>\n",
              "      <th>1</th>\n",
              "      <td>234360</td>\n",
              "      <td>152989</td>\n",
              "      <td>97568</td>\n",
              "      <td>110295</td>\n",
              "      <td>222</td>\n",
              "      <td>1007</td>\n",
              "      <td>5618</td>\n",
              "      <td>564</td>\n",
              "      <td>393330</td>\n",
              "      <td>72069</td>\n",
              "      <td>91333</td>\n",
              "      <td>72870</td>\n",
              "      <td>373698</td>\n",
              "      <td>329856</td>\n",
              "      <td>170934</td>\n",
              "      <td>207743</td>\n",
              "      <td>91257</td>\n",
              "    </tr>\n",
              "  </tbody>\n",
              "</table>\n",
              "</div>"
            ],
            "text/plain": [
              "   ps_ind_06_bin  ps_ind_07_bin  ...  ps_calc_19_bin  ps_calc_20_bin\n",
              "0         360852         442223  ...          387469          503955\n",
              "1         234360         152989  ...          207743           91257\n",
              "\n",
              "[2 rows x 17 columns]"
            ]
          },
          "metadata": {
            "tags": []
          },
          "execution_count": 24
        }
      ]
    },
    {
      "cell_type": "code",
      "metadata": {
        "id": "MPByKyjMBml5",
        "colab_type": "code",
        "outputId": "b5b98aae-1bff-4315-e0a4-41d7d008e77e",
        "colab": {
          "base_uri": "https://localhost:8080/",
          "height": 568
        }
      },
      "source": [
        "# hint pandas plot.bar with stacked=True\n",
        "# Your code here\n",
        "\n",
        "bin_value_counts.T.plot.bar(stacked = True, figsize = (8, 8))"
      ],
      "execution_count": 0,
      "outputs": [
        {
          "output_type": "execute_result",
          "data": {
            "text/plain": [
              "<matplotlib.axes._subplots.AxesSubplot at 0x7fce946f16a0>"
            ]
          },
          "metadata": {
            "tags": []
          },
          "execution_count": 25
        },
        {
          "output_type": "display_data",
          "data": {
            "image/png": "[encoded data removed]",
            "text/plain": [
              "<Figure size 576x576 with 1 Axes>"
            ]
          },
          "metadata": {
            "tags": []
          }
        }
      ]
    },
    {
      "cell_type": "markdown",
      "metadata": {
        "id": "nvw-VaOLBml7",
        "colab_type": "text"
      },
      "source": [
        "Those columns ps_ind_10_bin, ps_ind_11_bin, ps_ind_12_bin, ps_ind_13_bin which are completely dominated by zeros. They do not contain much information."
      ]
    },
    {
      "cell_type": "markdown",
      "metadata": {
        "id": "vFry2T1HBml7",
        "colab_type": "text"
      },
      "source": [
        "## 3. Preprocess Data"
      ]
    },
    {
      "cell_type": "code",
      "metadata": {
        "id": "kr4EcoZwLaau",
        "colab_type": "code",
        "colab": {}
      },
      "source": [
        "train = pd.get_dummies(train, columns = train.select_dtypes('category').columns)"
      ],
      "execution_count": 0,
      "outputs": []
    },
    {
      "cell_type": "code",
      "metadata": {
        "id": "U9Hl9PtVBml8",
        "colab_type": "code",
        "colab": {}
      },
      "source": [
        "# Import train_test_split \n",
        "# Your code here\n",
        "from sklearn.model_selection import train_test_split"
      ],
      "execution_count": 0,
      "outputs": []
    },
    {
      "cell_type": "code",
      "metadata": {
        "id": "9YB64lrYBml-",
        "colab_type": "code",
        "colab": {}
      },
      "source": [
        "# Define X (features), y (target)\n",
        "X = train.drop(columns = ['target','id'])\n",
        "y = train['target'] # Your code here"
      ],
      "execution_count": 0,
      "outputs": []
    },
    {
      "cell_type": "code",
      "metadata": {
        "id": "mkuhiJFaBmmC",
        "colab_type": "code",
        "colab": {}
      },
      "source": [
        "# Split data into train and test set\n",
        "X_train, X_test, y_train, y_test = train_test_split(X, y, test_size = 0.3, random_state = 0)"
      ],
      "execution_count": 0,
      "outputs": []
    },
    {
      "cell_type": "code",
      "metadata": {
        "id": "RKFp_-hHgmyV",
        "colab_type": "code",
        "colab": {}
      },
      "source": [
        "training_data = pd.concat([X_train, y_train], axis = 1)"
      ],
      "execution_count": 0,
      "outputs": []
    },
    {
      "cell_type": "code",
      "metadata": {
        "id": "qBnnvJA8h1Z1",
        "colab_type": "code",
        "outputId": "17572d64-9ec0-4105-af7f-8300626f4d7b",
        "colab": {
          "base_uri": "https://localhost:8080/",
          "height": 67
        }
      },
      "source": [
        "training_data['target'].value_counts()"
      ],
      "execution_count": 0,
      "outputs": [
        {
          "output_type": "execute_result",
          "data": {
            "text/plain": [
              "0    401433\n",
              "1     15215\n",
              "Name: target, dtype: int64"
            ]
          },
          "metadata": {
            "tags": []
          },
          "execution_count": 46
        }
      ]
    },
    {
      "cell_type": "markdown",
      "metadata": {
        "id": "sFyAKnuvBmmF",
        "colab_type": "text"
      },
      "source": [
        "\n",
        "#### Randomly Under-Sampling the Training Dataset¶\n",
        "**Note:** Validate ratio between 2 class after Under-Sampling"
      ]
    },
    {
      "cell_type": "code",
      "metadata": {
        "id": "2xaBJqgDBmmG",
        "colab_type": "code",
        "outputId": "a904a40c-2aef-4b21-a326-cfcc7e215bd9",
        "colab": {
          "base_uri": "https://localhost:8080/",
          "height": 67
        }
      },
      "source": [
        "from sklearn.utils import resample\n",
        "\n",
        "target_data = training_data[training_data['target'] == 1]\n",
        "\n",
        "non_target_data = training_data[training_data['target'] == 0]\n",
        "\n",
        "non_target_downsampled = resample(\n",
        "    non_target_data,\n",
        "    replace = False,\n",
        "    n_samples = len(target_data),\n",
        "    random_state = 1\n",
        ")\n",
        "\n",
        "total_records = len(non_target_downsampled) + len(target_data)\n",
        "\n",
        "# Showing ratio\n",
        "print(\"Percentage of target: \", len(target_data) / total_records)\n",
        "print(\"Percentage of non target: \", len(non_target_downsampled) / total_records)\n",
        "print(\"Total number of transactions in resampled data: \", len(target_data) + len(non_target_downsampled) )\n",
        "\n",
        "under_sample_data = pd.concat([non_target_downsampled, target_data])\n",
        "\n",
        "# Assigning X,y for Under-sampled Data\n",
        "X_train_undersample = under_sample_data.drop(columns = 'target') \n",
        "y_train_undersample = under_sample_data.target"
      ],
      "execution_count": 0,
      "outputs": [
        {
          "output_type": "stream",
          "text": [
            "Percentage of target:  0.5\n",
            "Percentage of non target:  0.5\n",
            "Total number of transactions in resampled data:  30430\n"
          ],
          "name": "stdout"
        }
      ]
    },
    {
      "cell_type": "markdown",
      "metadata": {
        "id": "_tKrKMoNBmmH",
        "colab_type": "text"
      },
      "source": [
        "#### Randomly Over-Sampling the Training Dataset\n",
        "**Note:** Validate ratio between 2 class after Over-Sampling"
      ]
    },
    {
      "cell_type": "code",
      "metadata": {
        "id": "7WWR5aTjBmmI",
        "colab_type": "code",
        "outputId": "57e66fff-b18c-4a0f-9893-4354bddfc3f4",
        "colab": {
          "base_uri": "https://localhost:8080/",
          "height": 67
        }
      },
      "source": [
        "from sklearn.utils import resample\n",
        "\n",
        "target_data = training_data[training_data['target'] == 1]\n",
        "\n",
        "non_target_data = training_data[training_data['target'] == 0]\n",
        "\n",
        "target_oversampled = resample(\n",
        "    non_target_data,\n",
        "    replace = True,\n",
        "    n_samples = len(non_target_data),\n",
        "    random_state = 1\n",
        ")\n",
        "\n",
        "total_records = len(target_oversampled) + len(non_target_data)\n",
        "\n",
        "# Showing ratio\n",
        "print(\"Percentage of target: \", len(target_oversampled) / total_records)\n",
        "print(\"Percentage of non target: \", len(non_target_data) / total_records)\n",
        "print(\"Total number of transactions in resampled data: \", len(non_target_data) + len(target_oversampled) )\n",
        "\n",
        "over_sample_data = pd.concat([non_target_downsampled, target_data])\n",
        "\n",
        "# Assigning X,y for Under-sampled Data\n",
        "X_train_oversample = under_sample_data.drop(columns = 'target') \n",
        "y_train_oversample = under_sample_data.target"
      ],
      "execution_count": 0,
      "outputs": [
        {
          "output_type": "stream",
          "text": [
            "Percentage of target:  0.5\n",
            "Percentage of non target:  0.5\n",
            "Total number of transactions in resampled data:  802866\n"
          ],
          "name": "stdout"
        }
      ]
    },
    {
      "cell_type": "markdown",
      "metadata": {
        "id": "jWiGWnW4BmmK",
        "colab_type": "text"
      },
      "source": [
        "## 4. Modeling"
      ]
    },
    {
      "cell_type": "code",
      "metadata": {
        "id": "19UhroZJBmmK",
        "colab_type": "code",
        "colab": {}
      },
      "source": [
        "# Spot check with LogisticRegression, DecisionTreeClassifier, RandomForestClassifier, BernoulliNB, GaussianNB\n",
        "# Import libraries and and create model\n",
        "\n",
        "from sklearn.linear_model import LogisticRegression\n",
        "from sklearn.tree import DecisionTreeClassifier\n",
        "from sklearn.ensemble import RandomForestClassifier\n",
        "from sklearn.naive_bayes import BernoulliNB, GaussianNB\n",
        "\n",
        "\n",
        "lr = LogisticRegression()\n",
        "dtc = DecisionTreeClassifier()\n",
        "rfc = RandomForestClassifier()\n",
        "bnb = BernoulliNB()\n",
        "gnb = GaussianNB()\n",
        "\n",
        "models = [lr, dtc, rfc, gnb, bnb]\n",
        "models_name = [\"Logistic Regression\", \"Decision Tree\", \"Random Forest\", \"Bernoulli NB\", \"Gaussian NB\"]"
      ],
      "execution_count": 0,
      "outputs": []
    },
    {
      "cell_type": "markdown",
      "metadata": {
        "id": "7zst27TnBmmL",
        "colab_type": "text"
      },
      "source": [
        "## 5. Evaluation Metrics"
      ]
    },
    {
      "cell_type": "code",
      "metadata": {
        "id": "7mMfTQbZBmmM",
        "colab_type": "code",
        "colab": {}
      },
      "source": [
        "# Import confusion_matrix, classification_report\n",
        "# Your code here\n",
        "from sklearn.metrics import confusion_matrix, classification_report\n",
        "\n",
        "# We create an utils function, that take a trained model as argument and print out confusion matrix\n",
        "# classification report base on X and y\n",
        "def evaluate_model(estimator, X, y):\n",
        "    y_pred = estimator.predict(X)\n",
        "    print('========== Confusion matrix ===============')\n",
        "    print(confusion_matrix(y, y_pred))\n",
        "    print('========== Classification report===========')\n",
        "    print(classification_report(y, y_pred))\n",
        "    return True"
      ],
      "execution_count": 0,
      "outputs": []
    },
    {
      "cell_type": "markdown",
      "metadata": {
        "id": "bgNrgYoFBmmN",
        "colab_type": "text"
      },
      "source": [
        "### Evaluate with Origin dataset"
      ]
    },
    {
      "cell_type": "code",
      "metadata": {
        "id": "pMEQu1ZYBmmN",
        "colab_type": "code",
        "outputId": "878160dc-d574-4d9d-8e61-c47cab2fa423",
        "colab": {
          "base_uri": "https://localhost:8080/",
          "height": 1000
        }
      },
      "source": [
        "for idx, model in enumerate(models):\n",
        "    print(\"Model: {}\".format(models_name[idx]))\n",
        "    # Your code here\n",
        "    # Fit your model with Origin dataset\n",
        "    model.fit(X_train,y_train)\n",
        "    # Evaluate model with X_test, y_test\n",
        "    evaluate_model(model, X_test, y_test)\n",
        "    print(\"=======================================\")"
      ],
      "execution_count": 0,
      "outputs": [
        {
          "output_type": "stream",
          "text": [
            "Model: Logistic Regression\n"
          ],
          "name": "stdout"
        },
        {
          "output_type": "stream",
          "text": [
            "/usr/local/lib/python3.6/dist-packages/sklearn/linear_model/logistic.py:432: FutureWarning: Default solver will be changed to 'lbfgs' in 0.22. Specify a solver to silence this warning.\n",
            "  FutureWarning)\n"
          ],
          "name": "stderr"
        },
        {
          "output_type": "stream",
          "text": [
            "========== Confusion matrix ===============\n",
            "[[172083      2]\n",
            " [  6475      4]]\n",
            "========== Classification report===========\n",
            "              precision    recall  f1-score   support\n",
            "\n",
            "           0       0.96      1.00      0.98    172085\n",
            "           1       0.67      0.00      0.00      6479\n",
            "\n",
            "    accuracy                           0.96    178564\n",
            "   macro avg       0.82      0.50      0.49    178564\n",
            "weighted avg       0.95      0.96      0.95    178564\n",
            "\n",
            "=======================================\n",
            "Model: Decision Tree\n",
            "========== Confusion matrix ===============\n",
            "[[164042   8043]\n",
            " [  6069    410]]\n",
            "========== Classification report===========\n",
            "              precision    recall  f1-score   support\n",
            "\n",
            "           0       0.96      0.95      0.96    172085\n",
            "           1       0.05      0.06      0.05      6479\n",
            "\n",
            "    accuracy                           0.92    178564\n",
            "   macro avg       0.51      0.51      0.51    178564\n",
            "weighted avg       0.93      0.92      0.93    178564\n",
            "\n",
            "=======================================\n",
            "Model: Random Forest\n"
          ],
          "name": "stdout"
        },
        {
          "output_type": "stream",
          "text": [
            "/usr/local/lib/python3.6/dist-packages/sklearn/ensemble/forest.py:245: FutureWarning: The default value of n_estimators will change from 10 in version 0.20 to 100 in 0.22.\n",
            "  \"10 in version 0.20 to 100 in 0.22.\", FutureWarning)\n"
          ],
          "name": "stderr"
        },
        {
          "output_type": "stream",
          "text": [
            "========== Confusion matrix ===============\n",
            "[[172079      6]\n",
            " [  6475      4]]\n",
            "========== Classification report===========\n",
            "              precision    recall  f1-score   support\n",
            "\n",
            "           0       0.96      1.00      0.98    172085\n",
            "           1       0.40      0.00      0.00      6479\n",
            "\n",
            "    accuracy                           0.96    178564\n",
            "   macro avg       0.68      0.50      0.49    178564\n",
            "weighted avg       0.94      0.96      0.95    178564\n",
            "\n",
            "=======================================\n",
            "Model: Bernoulli NB\n",
            "========== Confusion matrix ===============\n",
            "[[132235  39850]\n",
            " [  4232   2247]]\n",
            "========== Classification report===========\n",
            "              precision    recall  f1-score   support\n",
            "\n",
            "           0       0.97      0.77      0.86    172085\n",
            "           1       0.05      0.35      0.09      6479\n",
            "\n",
            "    accuracy                           0.75    178564\n",
            "   macro avg       0.51      0.56      0.47    178564\n",
            "weighted avg       0.94      0.75      0.83    178564\n",
            "\n",
            "=======================================\n",
            "Model: Gaussian NB\n",
            "========== Confusion matrix ===============\n",
            "[[167555   4530]\n",
            " [  6056    423]]\n",
            "========== Classification report===========\n",
            "              precision    recall  f1-score   support\n",
            "\n",
            "           0       0.97      0.97      0.97    172085\n",
            "           1       0.09      0.07      0.07      6479\n",
            "\n",
            "    accuracy                           0.94    178564\n",
            "   macro avg       0.53      0.52      0.52    178564\n",
            "weighted avg       0.93      0.94      0.94    178564\n",
            "\n",
            "=======================================\n"
          ],
          "name": "stdout"
        }
      ]
    },
    {
      "cell_type": "markdown",
      "metadata": {
        "id": "2d8XO8hFBmmP",
        "colab_type": "text"
      },
      "source": [
        "### Evaluate with *Undersampled* dataset"
      ]
    },
    {
      "cell_type": "code",
      "metadata": {
        "id": "SCMnwSH-BmmP",
        "colab_type": "code",
        "outputId": "48baf485-7374-4379-d3f3-f8ed9d422e27",
        "colab": {
          "base_uri": "https://localhost:8080/",
          "height": 1000
        }
      },
      "source": [
        "for idx, model in enumerate(models):\n",
        "    print(\"Model: {}\".format(models_name[idx]))\n",
        "    # Your code here\n",
        "    # Fit your model with Undersampled dataset\n",
        "    model.fit(X_train_undersample, y_train_undersample)\n",
        "    # Evaluate model with X_test, y_test\n",
        "    evaluate_model(model, X_test, y_test)\n",
        "    print(\"=======================================\")"
      ],
      "execution_count": 0,
      "outputs": [
        {
          "output_type": "stream",
          "text": [
            "Model: Logistic Regression\n"
          ],
          "name": "stdout"
        },
        {
          "output_type": "stream",
          "text": [
            "/usr/local/lib/python3.6/dist-packages/sklearn/linear_model/logistic.py:432: FutureWarning: Default solver will be changed to 'lbfgs' in 0.22. Specify a solver to silence this warning.\n",
            "  FutureWarning)\n"
          ],
          "name": "stderr"
        },
        {
          "output_type": "stream",
          "text": [
            "========== Confusion matrix ===============\n",
            "[[106260  65825]\n",
            " [  2812   3667]]\n",
            "========== Classification report===========\n",
            "              precision    recall  f1-score   support\n",
            "\n",
            "           0       0.97      0.62      0.76    172085\n",
            "           1       0.05      0.57      0.10      6479\n",
            "\n",
            "    accuracy                           0.62    178564\n",
            "   macro avg       0.51      0.59      0.43    178564\n",
            "weighted avg       0.94      0.62      0.73    178564\n",
            "\n",
            "=======================================\n",
            "Model: Decision Tree\n",
            "========== Confusion matrix ===============\n",
            "[[89898 82187]\n",
            " [ 3040  3439]]\n",
            "========== Classification report===========\n",
            "              precision    recall  f1-score   support\n",
            "\n",
            "           0       0.97      0.52      0.68    172085\n",
            "           1       0.04      0.53      0.07      6479\n",
            "\n",
            "    accuracy                           0.52    178564\n",
            "   macro avg       0.50      0.53      0.38    178564\n",
            "weighted avg       0.93      0.52      0.66    178564\n",
            "\n",
            "=======================================\n",
            "Model: Random Forest\n",
            "========== Confusion matrix ===============\n",
            "[[111687  60398]\n",
            " [  3567   2912]]\n",
            "========== Classification report===========\n",
            "              precision    recall  f1-score   support\n",
            "\n",
            "           0       0.97      0.65      0.78    172085\n",
            "           1       0.05      0.45      0.08      6479\n",
            "\n",
            "    accuracy                           0.64    178564\n",
            "   macro avg       0.51      0.55      0.43    178564\n",
            "weighted avg       0.94      0.64      0.75    178564\n",
            "\n",
            "=======================================\n",
            "Model: Bernoulli NB\n",
            "========== Confusion matrix ===============\n",
            "[[132259  39826]\n",
            " [  4180   2299]]\n",
            "========== Classification report===========\n",
            "              precision    recall  f1-score   support\n",
            "\n",
            "           0       0.97      0.77      0.86    172085\n",
            "           1       0.05      0.35      0.09      6479\n",
            "\n",
            "    accuracy                           0.75    178564\n",
            "   macro avg       0.51      0.56      0.48    178564\n",
            "weighted avg       0.94      0.75      0.83    178564\n",
            "\n",
            "=======================================\n",
            "Model: Gaussian NB\n",
            "========== Confusion matrix ===============\n",
            "[[110586  61499]\n",
            " [  3046   3433]]\n",
            "========== Classification report===========\n",
            "              precision    recall  f1-score   support\n",
            "\n",
            "           0       0.97      0.64      0.77    172085\n",
            "           1       0.05      0.53      0.10      6479\n",
            "\n",
            "    accuracy                           0.64    178564\n",
            "   macro avg       0.51      0.59      0.44    178564\n",
            "weighted avg       0.94      0.64      0.75    178564\n",
            "\n",
            "=======================================\n"
          ],
          "name": "stdout"
        }
      ]
    },
    {
      "cell_type": "markdown",
      "metadata": {
        "id": "bAL6essLBmmR",
        "colab_type": "text"
      },
      "source": [
        "### Evaluate with *Oversampled* dataset"
      ]
    },
    {
      "cell_type": "code",
      "metadata": {
        "id": "j8az3ggoBmmR",
        "colab_type": "code",
        "outputId": "17c1af21-5be2-4db9-fce6-1a72dcb02da0",
        "colab": {
          "base_uri": "https://localhost:8080/",
          "height": 1000
        }
      },
      "source": [
        "for idx, model in enumerate(models):\n",
        "    print(\"Model: {}\".format(models_name[idx]))\n",
        "    # Your code here\n",
        "    # Fit your model with Oversampled dataset\n",
        "    model.fit(X_train_oversample, y_train_oversample)\n",
        "    # Evaluate model with X_test, y_test\n",
        "    evaluate_model(model, X_test, y_test)\n",
        "    print(\"=======================================\")"
      ],
      "execution_count": 0,
      "outputs": [
        {
          "output_type": "stream",
          "text": [
            "Model: Logistic Regression\n"
          ],
          "name": "stdout"
        },
        {
          "output_type": "stream",
          "text": [
            "/usr/local/lib/python3.6/dist-packages/sklearn/linear_model/logistic.py:432: FutureWarning: Default solver will be changed to 'lbfgs' in 0.22. Specify a solver to silence this warning.\n",
            "  FutureWarning)\n"
          ],
          "name": "stderr"
        },
        {
          "output_type": "stream",
          "text": [
            "========== Confusion matrix ===============\n",
            "[[106260  65825]\n",
            " [  2812   3667]]\n",
            "========== Classification report===========\n",
            "              precision    recall  f1-score   support\n",
            "\n",
            "           0       0.97      0.62      0.76    172085\n",
            "           1       0.05      0.57      0.10      6479\n",
            "\n",
            "    accuracy                           0.62    178564\n",
            "   macro avg       0.51      0.59      0.43    178564\n",
            "weighted avg       0.94      0.62      0.73    178564\n",
            "\n",
            "=======================================\n",
            "Model: Decision Tree\n",
            "========== Confusion matrix ===============\n",
            "[[89986 82099]\n",
            " [ 3079  3400]]\n",
            "========== Classification report===========\n",
            "              precision    recall  f1-score   support\n",
            "\n",
            "           0       0.97      0.52      0.68    172085\n",
            "           1       0.04      0.52      0.07      6479\n",
            "\n",
            "    accuracy                           0.52    178564\n",
            "   macro avg       0.50      0.52      0.38    178564\n",
            "weighted avg       0.93      0.52      0.66    178564\n",
            "\n",
            "=======================================\n",
            "Model: Random Forest\n",
            "========== Confusion matrix ===============\n",
            "[[113193  58892]\n",
            " [  3631   2848]]\n",
            "========== Classification report===========\n",
            "              precision    recall  f1-score   support\n",
            "\n",
            "           0       0.97      0.66      0.78    172085\n",
            "           1       0.05      0.44      0.08      6479\n",
            "\n",
            "    accuracy                           0.65    178564\n",
            "   macro avg       0.51      0.55      0.43    178564\n",
            "weighted avg       0.94      0.65      0.76    178564\n",
            "\n",
            "=======================================\n",
            "Model: Bernoulli NB\n",
            "========== Confusion matrix ===============\n",
            "[[132259  39826]\n",
            " [  4180   2299]]\n",
            "========== Classification report===========\n",
            "              precision    recall  f1-score   support\n",
            "\n",
            "           0       0.97      0.77      0.86    172085\n",
            "           1       0.05      0.35      0.09      6479\n",
            "\n",
            "    accuracy                           0.75    178564\n",
            "   macro avg       0.51      0.56      0.48    178564\n",
            "weighted avg       0.94      0.75      0.83    178564\n",
            "\n",
            "=======================================\n",
            "Model: Gaussian NB\n",
            "========== Confusion matrix ===============\n",
            "[[110586  61499]\n",
            " [  3046   3433]]\n",
            "========== Classification report===========\n",
            "              precision    recall  f1-score   support\n",
            "\n",
            "           0       0.97      0.64      0.77    172085\n",
            "           1       0.05      0.53      0.10      6479\n",
            "\n",
            "    accuracy                           0.64    178564\n",
            "   macro avg       0.51      0.59      0.44    178564\n",
            "weighted avg       0.94      0.64      0.75    178564\n",
            "\n",
            "=======================================\n"
          ],
          "name": "stdout"
        }
      ]
    },
    {
      "cell_type": "markdown",
      "metadata": {
        "id": "Gtmis4CNBmmT",
        "colab_type": "text"
      },
      "source": [
        "### Conclusion"
      ]
    },
    {
      "cell_type": "markdown",
      "metadata": {
        "id": "3MJ1zB7cBmmU",
        "colab_type": "text"
      },
      "source": [
        "##Which model has lowest/highest accuracy? </br>\n",
        "Model Bernoulli NB has highest accuracy </br>\n",
        "Model Decision Tree has lowest accuracy\n",
        "##Which model has lowest/highest recall? </br>\n",
        "Model Gaussian NB, Logistic Regression has highest recall </br>\n",
        "Model Decision Tree has lowest recall\n",
        "##Which model has lowest/highest f1? </br>\n",
        "Model Gaussian NB has highest f1 score </br>\n",
        "Model Decision Tree has lowest f1 score"
      ]
    },
    {
      "cell_type": "markdown",
      "metadata": {
        "id": "GM_pTpzJBmmU",
        "colab_type": "text"
      },
      "source": [
        "## 6. GridsearchCV"
      ]
    },
    {
      "cell_type": "code",
      "metadata": {
        "id": "DnWWq9ELBmmU",
        "colab_type": "code",
        "colab": {}
      },
      "source": [
        "# Using gridsearchcv, random forest model and this param grid to find the best combination of parameters \n",
        "# Hint: example\n",
        "# https://stackoverflow.com/questions/30102973/how-to-get-best-estimator-on-gridsearchcv-random-forest-classifier-scikit\n",
        "\n",
        "from sklearn.model_selection import GridSearchCV\n",
        "\n",
        "param_grid = {\n",
        "    'bootstrap': [True],\n",
        "    'max_depth': [80, 90, 100, 110],\n",
        "    'max_features': [2, 3],\n",
        "    'min_samples_leaf': [3, 4, 5],\n",
        "    'min_samples_split': [8, 10, 12],\n",
        "    'n_estimators': [100, 200, 300, 1000]\n",
        "}\n",
        "\n",
        "CV_rfc = GridSearchCV(estimator=rfc, param_grid=param_grid, cv= 5)\n",
        "CV_rfc.fit(X_train, y_train)\n"
      ],
      "execution_count": 0,
      "outputs": []
    },
    {
      "cell_type": "markdown",
      "metadata": {
        "id": "JZ4uPwZDBmmX",
        "colab_type": "text"
      },
      "source": [
        "#### which is the best combination of parameter"
      ]
    },
    {
      "cell_type": "code",
      "metadata": {
        "id": "UrA8KbH7BmmX",
        "colab_type": "code",
        "colab": {}
      },
      "source": [
        "print(CV_rfc.best_params_)"
      ],
      "execution_count": 0,
      "outputs": []
    },
    {
      "cell_type": "markdown",
      "metadata": {
        "id": "zgmVNqn7BmmZ",
        "colab_type": "text"
      },
      "source": [
        "# Done! Great Job."
      ]
    }
  ]
}