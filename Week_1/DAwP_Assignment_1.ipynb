{
  "nbformat": 4,
  "nbformat_minor": 0,
  "metadata": {
    "colab": {
      "name": "DAwP_Assignment_1.ipynb",
      "version": "0.3.2",
      "provenance": [],
      "collapsed_sections": [
        "0AxyfiJijJ7T",
        "kJH5I_Ij09XU",
        "-8upA_bj1Ldm",
        "UfNLWla68Y7J",
        "WWohBlE6CMPU",
        "OAsuJVdqQLex",
        "B4GxFncnVhzN",
        "vFzQal5CXupe",
        "-1qnhRiWZEFO",
        "HcZ0xHiAeFpl",
        "Z_lXkomli-DY",
        "L0B_yGQ-kJP3",
        "uBH0CRRFlkl-",
        "96sIeNq1mUo9",
        "J2jQQDPio3yz"
      ]
    },
    "kernelspec": {
      "name": "python3",
      "display_name": "Python 3"
    }
  },
  "cells": [
    {
      "cell_type": "markdown",
      "metadata": {
        "id": "jjZG7BNlbWtO",
        "colab_type": "text"
      },
      "source": [
        "![](https://i.imgur.com/0AUxkXt.png)"
      ]
    },
    {
      "cell_type": "markdown",
      "metadata": {
        "id": "jbpQzyjqbflM",
        "colab_type": "text"
      },
      "source": [
        "# Assignment 1 - The Hacker Rank\n",
        "\n",
        "HackerRank is a place where programmers from all over the world come together to solve problems in a wide range of Computer Science domains.\n",
        "\n",
        "As you solve more challenges, you earn points and move up the HackerRank Leaderboard.\n",
        "\n",
        "Looking for a job at an awesome company? You can get hired by solving [challenges](https://www.hackerrank.com/jobs/search)!\n",
        "\n",
        "It's cool. Let's establish your knowledge and fight for glory!\n",
        "\n",
        "But before that let's make it clear that.."
      ]
    },
    {
      "cell_type": "markdown",
      "metadata": {
        "id": "-ndmD4naciAN",
        "colab_type": "text"
      },
      "source": [
        "## Note-taking is IMPORTANT\n",
        "\n",
        "Blog: [Why is note-taking important](https://nickblackbourn.com/blog/why-is-note-taking-important/)\n",
        "\n",
        "Note taking isn’t just important for college students, it’s a valuable life skill.\n",
        "\n",
        "Effective note taking helps you to remember information and aids your understanding of that information. \n",
        "\n",
        "**Notes boost your understanding**\n",
        "\n",
        "By making notes, you force yourself to construct a conceptual mental representation of the ideas you are grappling with. It is this process that helps you comprehend the subject matter you are working with.\n",
        "\n",
        "**Notes are a repository of your thinking**\n",
        "\n",
        "When you need to recall something that you came across a while ago, you can go over the main ideas by looking over your notes. This is why good, comprehensive notes are so useful; they are a catalogue of the best ideas you’ve encountered, and what you thought about them.\n",
        "\n",
        "etc.\n",
        "\n",
        "\n",
        "\n",
        "\n",
        "\n",
        "\n",
        "\n"
      ]
    },
    {
      "cell_type": "markdown",
      "metadata": {
        "id": "IGvKPsdVfX-F",
        "colab_type": "text"
      },
      "source": [
        "## Requirements\n",
        "\n",
        "Pick 10 challenges on HackerRank about SQL and 5 about Python in **easy** level:\n",
        "\n",
        "[HackerRank - Domain SQL](https://www.hackerrank.com/domains/sql?filters%5Bdifficulty%5D%5B%5D=easy&filters%5Bsubdomains%5D%5B%5D=select)\n",
        "\n",
        "[HackerRank - Domain Python](https://www.hackerrank.com/domains/python?filters%5Bdifficulty%5D%5B%5D=easy)\n",
        "\n",
        "For each challenge:\n",
        "\n",
        "* Create a markdown cell first that describes the challenge.\n",
        "* Solve the challenge on HackerRank and copy your solution to a code cell below\n",
        "* (Optional) A short description about how you came up with the solution would be awesome."
      ]
    },
    {
      "cell_type": "markdown",
      "metadata": {
        "id": "higGK1Y5iAea",
        "colab_type": "text"
      },
      "source": [
        "## Example"
      ]
    },
    {
      "cell_type": "markdown",
      "metadata": {
        "id": "D2yU2FYDi4tj",
        "colab_type": "text"
      },
      "source": [
        "### SQL"
      ]
    },
    {
      "cell_type": "markdown",
      "metadata": {
        "id": "gu4DDH7Ki77C",
        "colab_type": "text"
      },
      "source": [
        "\n",
        "#### Problem 1\n",
        "\n",
        "Query all columns for all American cities in **CITY** with populations larger than 100000. The CountryCode for America is USA.\n",
        "\n",
        "**Input Format**\n",
        "\n",
        "The **CITY** table is described as follows:\n",
        "\n",
        "| Field | Type |\n",
        "|:----:|:---:|\n",
        "| ID | NUMBER |\n",
        "| NAME | VARCHAR2(17) |\n",
        "| COUNTRYCODE | VARCHAR2(3) |\n",
        "| DISTRICT | VARCHAR2(20) |\n",
        "| POPULATION | NUMBER |"
      ]
    },
    {
      "cell_type": "code",
      "metadata": {
        "id": "hhAwMjyhbT1b",
        "colab_type": "code",
        "colab": {}
      },
      "source": [
        "# Solution\n",
        "# SELECT * from city WHERE population>100000 AND countrycode='USA';"
      ],
      "execution_count": 0,
      "outputs": []
    },
    {
      "cell_type": "markdown",
      "metadata": {
        "id": "0AxyfiJijJ7T",
        "colab_type": "text"
      },
      "source": [
        "### Python"
      ]
    },
    {
      "cell_type": "markdown",
      "metadata": {
        "id": "PEW8LsB5jLqf",
        "colab_type": "text"
      },
      "source": [
        "#### Problem 1\n",
        "\n",
        "**Task** \n",
        "Given an integer, , perform the following conditional actions:\n",
        "\n",
        "* If `n` is odd, print *Weird*\n",
        "* If `n` is even and in the inclusive range of 2 to 5, print *Not Weird*\n",
        "* If `n` is even and in the inclusive range of 6 to 20, print *Weird*\n",
        "* If `n` is even and greater than 20, print *Not Weird*\n",
        "\n",
        "**Input Format**\n",
        "\n",
        "A single line containing a positive integer, .\n",
        "\n",
        "**Output Format**\n",
        "\n",
        "Print Weird if the number is weird; otherwise, print Not Weird."
      ]
    },
    {
      "cell_type": "code",
      "metadata": {
        "id": "JBOxgw0zjLC2",
        "colab_type": "code",
        "colab": {}
      },
      "source": [
        "n = int(input())\n",
        "\n",
        "if n % 2 == 1:\n",
        "    print('Weird')\n",
        "else:\n",
        "    if (n >= 2) and (n <= 5):\n",
        "        print('Not Weird')\n",
        "    elif (n >= 6) and (n <= 20):\n",
        "        print('Weird')\n",
        "    else:\n",
        "        print('Not Weird')"
      ],
      "execution_count": 0,
      "outputs": []
    },
    {
      "cell_type": "markdown",
      "metadata": {
        "id": "a-Q3VE7YkA9A",
        "colab_type": "text"
      },
      "source": [
        "## Your turn\n",
        "\n",
        "Good luck and have fun!"
      ]
    },
    {
      "cell_type": "markdown",
      "metadata": {
        "id": "kJH5I_Ij09XU",
        "colab_type": "text"
      },
      "source": [
        "## PYTHON\n"
      ]
    },
    {
      "cell_type": "markdown",
      "metadata": {
        "id": "-8upA_bj1Ldm",
        "colab_type": "text"
      },
      "source": [
        "### Problem 1: collections.Counter()\n",
        "\n",
        "#### Task \n",
        "\n",
        "***Raghu*** is a shoe shop owner. His shop has  $X$ number of shoes. \n",
        "He has a list containing the size of each shoe he has in his shop. \n",
        "There are $N$  number of customers who are willing to pay $x_i$  amount of money only if they get the shoe of their desired size.\n",
        "\n",
        "Your task is to compute how much money ***Raghu*** earned.\n",
        "\n",
        "#### Input format\n",
        "\n",
        "The first line contains $X$, the number of shoes. <br/>\n",
        "The second line contains the space separated list of all the shoe sizes in the shop. <br/>\n",
        "The third line contains $N$ , the number of customers. <br/>\n",
        "The next  $N$ lines contain the space separated values of the ***shoe size***  desired by the customer and $x_i$ , the price of the shoe.\n",
        "\n",
        "#### Output format\n",
        "\n",
        "Print the amount of money earned by ***Raghu***."
      ]
    },
    {
      "cell_type": "code",
      "metadata": {
        "id": "RdkdZgjaj0To",
        "colab_type": "code",
        "outputId": "45d5c4c3-8e73-4e34-878c-2cf20ae01e1c",
        "colab": {
          "base_uri": "https://localhost:8080/",
          "height": 185
        }
      },
      "source": [
        "#import high-perfromance container datatypes\n",
        "from collections import Counter\n",
        "\n",
        "def main():\n",
        "    n = int(input())\n",
        "    cnt = Counter(map(int,input().split()))\n",
        "    \n",
        "    RaghuEarn = 0\n",
        "    \n",
        "    for _ in range(int(input())):\n",
        "        s, p = list(map(int, input().split()))\n",
        "        RaghuEarn += min(1, cnt[s]) * p\n",
        "        cnt[s] = max(0, cnt[s] - 1)\n",
        "    \n",
        "    print(RaghuEarn)\n",
        "    \n",
        "\n",
        "\n",
        "if __name__ == '__main__':\n",
        "    main()"
      ],
      "execution_count": 0,
      "outputs": [
        {
          "output_type": "stream",
          "text": [
            "10\n",
            "2 3 4 5 6 8 7 6 5 18\n",
            "6\n",
            "6 55\n",
            "6 45\n",
            "6 55 \n",
            "4 40 \n",
            "18 60\n",
            "10 50\n",
            "200\n"
          ],
          "name": "stdout"
        }
      ]
    },
    {
      "cell_type": "markdown",
      "metadata": {
        "id": "UfNLWla68Y7J",
        "colab_type": "text"
      },
      "source": [
        "### Problem 2:  DefaultDict Tutorial\n",
        "\n",
        "#### Task\n",
        "\n",
        "In this challenge, you will be given $2$ integers, $n$ and $m$. There are $n$ words, which might repeat, in word group $A$. There are $m$ words belonging to word group $B$. For each  $m$ words, check whether the word has appeared in group $A$ or not. Print the indices of each occurrence of $m$ in group $A$ . If it does not appear, print $-1$.\n",
        "\n",
        "#### Input format\n",
        "\n",
        "The first line contains integers, $n$ and $m$ separated by a space. <br/>\n",
        "The next $n$ lines contains the words belonging to group $A$. <br/>\n",
        "The next $m$ lines contains the words belonging to group $B$. <br/>\n",
        "\n",
        "#### Output format\n",
        "\n",
        "Output $m$ lines\n",
        "\n",
        "The $i^{th}$  line should contain the $1$-indexed positions of the occurrences of the $i^{th}$ word separated by spaces."
      ]
    },
    {
      "cell_type": "code",
      "metadata": {
        "id": "HLc8jfUh06Eo",
        "colab_type": "code",
        "outputId": "5d374bdc-1ce6-4c2d-cbd9-3a338c5e1abc",
        "colab": {
          "base_uri": "https://localhost:8080/",
          "height": 185
        }
      },
      "source": [
        "from collections import defaultdict \n",
        "\n",
        "def main():\n",
        "    d = defaultdict(list)\n",
        "    n, m = list(map(int, input().split()))\n",
        "    for i in range(1, n + 1):\n",
        "        w = input()\n",
        "        d[w].append(i) #add index of w's appearance in group A\n",
        "    \n",
        "    for _ in range(m):\n",
        "        w = input()\n",
        "        if d[w]:\n",
        "            print(*d[w]) # print out all indexes of group B's word appearing in group A \n",
        "        else:\n",
        "            print(-1)\n",
        "if __name__ == '__main__':\n",
        "    main()"
      ],
      "execution_count": 0,
      "outputs": [
        {
          "output_type": "stream",
          "text": [
            "5 2\n",
            "a\n",
            "a\n",
            "b\n",
            "a\n",
            "b\n",
            "a\n",
            "1 2 4\n",
            "b\n",
            "3 5\n"
          ],
          "name": "stdout"
        }
      ]
    },
    {
      "cell_type": "markdown",
      "metadata": {
        "id": "WWohBlE6CMPU",
        "colab_type": "text"
      },
      "source": [
        "### Problem 3: itertools.product()\n",
        "\n",
        "#### Task\n",
        "\n",
        "You are given a two lists  $A$ and $B$ . Your task is to compute their cartesian product $AXB$\n",
        "\n",
        "#### Input format\n",
        "\n",
        "The first line contains the space separated elements of list $A$ . <br/>\n",
        "The second line contains the space separated elements of list $B$.\n",
        "\n",
        "Both lists have no duplicate integer elements.\n",
        "\n",
        "#### Output format\n",
        "\n",
        "Output the space separated tuples of the cartesian product."
      ]
    },
    {
      "cell_type": "code",
      "metadata": {
        "id": "-e3akO0Gj_gk",
        "colab_type": "code",
        "colab": {
          "base_uri": "https://localhost:8080/",
          "height": 67
        },
        "outputId": "e4a56700-342d-473f-c707-9d42952939d8"
      },
      "source": [
        "import itertools\n",
        "\n",
        "def main():\n",
        "    A = list(map(int, input().split()))\n",
        "    B = list(map(int, input().split()))\n",
        "    \n",
        "    print(*itertools.product(A,B))\n",
        "\n",
        "\n",
        "if __name__ == '__main__':\n",
        "    main()"
      ],
      "execution_count": 1,
      "outputs": [
        {
          "output_type": "stream",
          "text": [
            "1 2\n",
            "3 4\n",
            "(1, 3) (1, 4) (2, 3) (2, 4)\n"
          ],
          "name": "stdout"
        }
      ]
    },
    {
      "cell_type": "markdown",
      "metadata": {
        "id": "OAsuJVdqQLex",
        "colab_type": "text"
      },
      "source": [
        "### Problem 4: Map and Lambda Function\n",
        "\n",
        "#### Task\n",
        "\n",
        "You have to generate a list of the first $N$ fibonacci numbers, $0$ being the first number. Then, apply the map function and a lambda expression to cube each fibonacci number and print the list.\n",
        "\n",
        "#### Input format\n",
        "\n",
        "One line of input: an integer $N$ .\n",
        "\n",
        "#### Output format\n",
        "\n",
        "A list on a single line containing the cubes of the first $N$ fibonacci numbers."
      ]
    },
    {
      "cell_type": "code",
      "metadata": {
        "id": "wH2sX5zeQG_u",
        "colab_type": "code",
        "colab": {
          "base_uri": "https://localhost:8080/",
          "height": 50
        },
        "outputId": "a979334f-3fa1-4257-d561-06ee49bb8419"
      },
      "source": [
        "cube = lambda x: x ** 3 # complete the lambda function \n",
        "\n",
        "def fibonacci(n):\n",
        "    res = [0,1]\n",
        "    for i in range(2,n):\n",
        "        res.append(res[i-1] + res[i - 2])\n",
        "    # return a list of fibonacci numbers\n",
        "    return res[:n]\n",
        "\n",
        "if __name__ == '__main__':\n",
        "    n = int(input())\n",
        "    print(list(map(cube, fibonacci(n))))"
      ],
      "execution_count": 2,
      "outputs": [
        {
          "output_type": "stream",
          "text": [
            "5\n",
            "[0, 1, 1, 8, 27]\n"
          ],
          "name": "stdout"
        }
      ]
    },
    {
      "cell_type": "markdown",
      "metadata": {
        "id": "2xA518AWSqTm",
        "colab_type": "text"
      },
      "source": [
        "### Problem 5: Eye and Identity\n",
        "\n",
        "#### Task\n",
        "Your task is to print an array of size $N$X$M$ with its main diagonal elements as $1$'s and $0$'s everywhere else.\n",
        "\n",
        "#### Input format\n",
        "A single line containing the space separated values of $N$ and $M$. <br/> \n",
        "$N$  denotes the rows. <br/>\n",
        "$M$ denotes the columns.\n",
        "\n",
        "#### Output format\n",
        "\n",
        "Print the desired $N$ X $M$ array."
      ]
    },
    {
      "cell_type": "code",
      "metadata": {
        "id": "FMkxyHghSl1g",
        "colab_type": "code",
        "colab": {
          "base_uri": "https://localhost:8080/",
          "height": 84
        },
        "outputId": "f6daaf8c-cc34-4a16-8fd5-e75b91184532"
      },
      "source": [
        "import numpy as np\n",
        "\n",
        "def main():\n",
        "    N,M = list(map(int, input().split()))\n",
        "    print(np.eye(N,M))\n",
        "\n",
        "if __name__ == '__main__':\n",
        "    np.set_printoptions(sign=' ')\n",
        "    main()\n",
        "\n"
      ],
      "execution_count": 3,
      "outputs": [
        {
          "output_type": "stream",
          "text": [
            "3 3\n",
            "[[ 1.  0.  0.]\n",
            " [ 0.  1.  0.]\n",
            " [ 0.  0.  1.]]\n"
          ],
          "name": "stdout"
        }
      ]
    },
    {
      "cell_type": "markdown",
      "metadata": {
        "id": "DIhvW_geVUfu",
        "colab_type": "text"
      },
      "source": [
        "## SQL"
      ]
    },
    {
      "cell_type": "markdown",
      "metadata": {
        "id": "B4GxFncnVhzN",
        "colab_type": "text"
      },
      "source": [
        "### Problem 1:  Employee names\n",
        "\n",
        "Write a query that prints a list of employee names (i.e.: the name attribute) from the **Employee** table in alphabetical order.\n",
        "\n",
        "#### Input format\n",
        "\n",
        "The **Employee** table containing employee data for a company is described as follows:\n",
        "\n",
        "| Column | Type |\n",
        "|:----:|:---:|\n",
        "| employee_id| Integer |\n",
        "| name | String |\n",
        "| months | Integer |\n",
        "| salary | Integer |\n",
        "\n",
        "where employee_id is an employee's ID number, name is their name, months is the total number of months they've been working for the company, and salary is their monthly salary."
      ]
    },
    {
      "cell_type": "code",
      "metadata": {
        "id": "uDQKh1mHXJNv",
        "colab_type": "code",
        "colab": {}
      },
      "source": [
        "# solution\n",
        "# SELECT name FROM Employee ORDER BY name;"
      ],
      "execution_count": 0,
      "outputs": []
    },
    {
      "cell_type": "markdown",
      "metadata": {
        "id": "vFzQal5CXupe",
        "colab_type": "text"
      },
      "source": [
        "### Problem 2: Employee Salaries\n",
        "\n",
        "Write a query that prints a list of employee names (i.e.: the name attribute) for employees in Employee having a salary greater than $\\$2000$  per month who have been employees for less than $10$ months. Sort your result by ascending employee_id.\n",
        "\n",
        "#### Input format\n",
        "\n",
        "The **Employee** table containing employee data for a company is described as follows:\n",
        "\n",
        "| Column | Type |\n",
        "|:----:|:---:|\n",
        "| employee_id| Integer |\n",
        "| name | String |\n",
        "| months | Integer |\n",
        "| salary | Integer |\n",
        "\n",
        "where employee_id is an employee's ID number, name is their name, months is the total number of months they've been working for the company, and salary is their monthly salary."
      ]
    },
    {
      "cell_type": "code",
      "metadata": {
        "id": "SzR5RYcAYiMG",
        "colab_type": "code",
        "colab": {}
      },
      "source": [
        "# solution\n",
        "# SELECT name FROM Employee WHERE months < 10 AND salary > 2000 ORDER BY employee_id;"
      ],
      "execution_count": 0,
      "outputs": []
    },
    {
      "cell_type": "markdown",
      "metadata": {
        "id": "-1qnhRiWZEFO",
        "colab_type": "text"
      },
      "source": [
        "#### Problem 3: Higher Than 75 Marks\n",
        "\n",
        "Query the Name of any student in **STUDENTS** who scored higher than $75$ Marks. Order your output by the last three characters of each name. If two or more students both have names ending in the same last three characters (i.e.: Bobby, Robby, etc.), secondary sort them by ascending ID.\n",
        "\n",
        "### Input format\n",
        "The **STUDENTS** table is described as follows: \n",
        "\n",
        "| Column | Type |\n",
        "| -- | -- |\n",
        "| ID | Integer |\n",
        "| Name | String |\n",
        "| Marks | Integer |\n",
        "\n",
        "The Name column only contains uppercase (A-Z) and lowercase (a-z) letters."
      ]
    },
    {
      "cell_type": "code",
      "metadata": {
        "id": "-LUoRy7PdY9p",
        "colab_type": "code",
        "colab": {}
      },
      "source": [
        "# solution\n",
        "# SELECT Name from STUDENTS where Marks > 75 ORDER BY right(Name, 3) , ID;"
      ],
      "execution_count": 0,
      "outputs": []
    },
    {
      "cell_type": "markdown",
      "metadata": {
        "id": "HcZ0xHiAeFpl",
        "colab_type": "text"
      },
      "source": [
        "### Problem 4:  Weather Observation Station 8\n",
        "\n",
        "Query the list of CITY names from **STATION** which have vowels (i.e., a, e, i, o, and u) as both their first and last characters. Your result cannot contain duplicates.\n",
        "\n",
        "#### Input format\n",
        "\n",
        "The **STATION** table is described as follows:\n",
        "\n",
        "| Field | Type |\n",
        "|:----:|:----:|\n",
        "| ID | NUMBER |\n",
        "| CITY | VARCHAR2(21) |\n",
        "| STATE | VARCHAR2(2)|\n",
        "| LAT_N | NUMBER |\n",
        "| LONG_W | NUMBER |\n",
        "\n",
        "where LAT_N is the northern latitude and LONG_W is the western longitude."
      ]
    },
    {
      "cell_type": "code",
      "metadata": {
        "id": "idRG8jGNi2qr",
        "colab_type": "code",
        "colab": {}
      },
      "source": [
        "# Solution\n",
        "# SELECT distinct CITY FROM STATION WHERE LEFT(CITY,1) in ('a', 'o', 'e', 'u', 'i' )\n",
        "#                                    AND RIGHT(CITY,1) in ('a', 'o', 'e', 'u', 'i');"
      ],
      "execution_count": 0,
      "outputs": []
    },
    {
      "cell_type": "markdown",
      "metadata": {
        "id": "Z_lXkomli-DY",
        "colab_type": "text"
      },
      "source": [
        "### Problem 5:  Weather Observation Station 9\n",
        "\n",
        "Query the list of CITY names from **STATION** that do not start with vowels. Your result cannot contain duplicates.\n",
        "\n",
        "#### Input format\n",
        "\n",
        "The **STATION** table is described as follows:\n",
        "\n",
        "| Field | Type |\n",
        "|:----:|:----:|\n",
        "| ID | NUMBER |\n",
        "| CITY | VARCHAR2(21) |\n",
        "| STATE | VARCHAR2(2)|\n",
        "| LAT_N | NUMBER |\n",
        "| LONG_W | NUMBER |\n",
        "\n",
        "where LAT_N is the northern latitude and LONG_W is the western longitude."
      ]
    },
    {
      "cell_type": "code",
      "metadata": {
        "id": "3KiT_ttWjl7J",
        "colab_type": "code",
        "colab": {}
      },
      "source": [
        "# Solution\n",
        "# SELECT distinct CITY FROM STATION WHERE LEFT(CITY,1) not in ('a', 'o', 'e', 'u', 'i' );"
      ],
      "execution_count": 0,
      "outputs": []
    },
    {
      "cell_type": "markdown",
      "metadata": {
        "colab_type": "text",
        "id": "L0B_yGQ-kJP3"
      },
      "source": [
        "### Problem 6:  Weather Observation Station 10\n",
        "\n",
        "Query the list of CITY names from **STATION** that do not end with vowels. Your result cannot contain duplicates.\n",
        "\n",
        "#### Input format\n",
        "\n",
        "The **STATION** table is described as follows:\n",
        "\n",
        "| Field | Type |\n",
        "|:----:|:----:|\n",
        "| ID | NUMBER |\n",
        "| CITY | VARCHAR2(21) |\n",
        "| STATE | VARCHAR2(2)|\n",
        "| LAT_N | NUMBER |\n",
        "| LONG_W | NUMBER |\n",
        "\n",
        "where LAT_N is the northern latitude and LONG_W is the western longitude."
      ]
    },
    {
      "cell_type": "code",
      "metadata": {
        "id": "7GsrNUTIkSnC",
        "colab_type": "code",
        "colab": {}
      },
      "source": [
        "# Solution\n",
        "# SELECT distinct CITY FROM STATION WHERE RIGHT(CITY,1) not in ('a', 'o', 'e', 'u', 'i' );"
      ],
      "execution_count": 0,
      "outputs": []
    },
    {
      "cell_type": "markdown",
      "metadata": {
        "colab_type": "text",
        "id": "uBH0CRRFlkl-"
      },
      "source": [
        "### Problem 7:  Weather Observation Station 11\n",
        "\n",
        "Query the list of CITY names from **STATION** that do not end with vowels or do not end with vowels. Your result cannot contain duplicates.\n",
        "\n",
        "#### Input format\n",
        "\n",
        "The **STATION** table is described as follows:\n",
        "\n",
        "| Field | Type |\n",
        "|:----:|:----:|\n",
        "| ID | NUMBER |\n",
        "| CITY | VARCHAR2(21) |\n",
        "| STATE | VARCHAR2(2)|\n",
        "| LAT_N | NUMBER |\n",
        "| LONG_W | NUMBER |\n",
        "\n",
        "where LAT_N is the northern latitude and LONG_W is the western longitude."
      ]
    },
    {
      "cell_type": "code",
      "metadata": {
        "colab_type": "code",
        "id": "d_eGziLvlkl_",
        "colab": {}
      },
      "source": [
        "# Solution\n",
        "# SELECT distinct CITY FROM STATION WHERE LEFT(CITY,1) not in ('a', 'o', 'e', 'u', 'i' ) OR RIGHT(CITY,1) not in ('a', 'o', 'e', 'u', 'i' );"
      ],
      "execution_count": 0,
      "outputs": []
    },
    {
      "cell_type": "markdown",
      "metadata": {
        "colab_type": "text",
        "id": "96sIeNq1mUo9"
      },
      "source": [
        "### Problem 8:  Weather Observation Station 12\n",
        "\n",
        "Query the list of CITY names from **STATION** that do not end with vowels and do not end with vowels. Your result cannot contain duplicates.\n",
        "\n",
        "#### Input format\n",
        "\n",
        "The **STATION** table is described as follows:\n",
        "\n",
        "| Field | Type |\n",
        "|:----:|:----:|\n",
        "| ID | NUMBER |\n",
        "| CITY | VARCHAR2(21) |\n",
        "| STATE | VARCHAR2(2)|\n",
        "| LAT_N | NUMBER |\n",
        "| LONG_W | NUMBER |\n",
        "\n",
        "where LAT_N is the northern latitude and LONG_W is the western longitude."
      ]
    },
    {
      "cell_type": "code",
      "metadata": {
        "colab_type": "code",
        "id": "USM_cX0cmUo-",
        "colab": {}
      },
      "source": [
        "# Solution\n",
        "# SELECT distinct CITY FROM STATION WHERE LEFT(CITY,1) not in ('a', 'o', 'e', 'u', 'i' ) AND RIGHT(CITY,1) not in ('a', 'o', 'e', 'u', 'i' );"
      ],
      "execution_count": 0,
      "outputs": []
    },
    {
      "cell_type": "markdown",
      "metadata": {
        "id": "O7WfRJl3mqfg",
        "colab_type": "text"
      },
      "source": [
        "### Problem 9: Revising Aggregations - The Count Function\n",
        "\n",
        "Query a count of the number of cities in CITY having a Population larger than $100,000$.\n",
        "\n",
        "#### Input format:\n",
        "The **CITY** table is described as follows: \n",
        "\n",
        "| Field | Type |\n",
        "|:----:|:---:|\n",
        "| ID | NUMBER |\n",
        "| NAME | VARCHAR2(17) |\n",
        "| COUNTRYCODE | VARCHAR2(3) |\n",
        "| DISTRICT | VARCHAR2(20) |\n",
        "| POPULATION | NUMBER |"
      ]
    },
    {
      "cell_type": "code",
      "metadata": {
        "id": "gxyYz3t3oFBd",
        "colab_type": "code",
        "colab": {}
      },
      "source": [
        "# Solution\n",
        "# SELECT count(ID) FROM CITY WHERE POPULATION > 100000;"
      ],
      "execution_count": 0,
      "outputs": []
    },
    {
      "cell_type": "markdown",
      "metadata": {
        "colab_type": "text",
        "id": "J2jQQDPio3yz"
      },
      "source": [
        "### Problem 10: Revising Aggregations - The Sum Function\n",
        "\n",
        "Query the total population of all cities in **CITY** where District is **California**.\n",
        "\n",
        "#### Input format:\n",
        "The **CITY** table is described as follows: \n",
        "\n",
        "| Field | Type |\n",
        "|:----:|:---:|\n",
        "| ID | NUMBER |\n",
        "| NAME | VARCHAR2(17) |\n",
        "| COUNTRYCODE | VARCHAR2(3) |\n",
        "| DISTRICT | VARCHAR2(20) |\n",
        "| POPULATION | NUMBER |"
      ]
    },
    {
      "cell_type": "code",
      "metadata": {
        "colab_type": "code",
        "id": "TPewlYtLo3y1",
        "colab": {}
      },
      "source": [
        "# Solution\n",
        "# SELECT sum(POPULATION) FROM CITY WHERE DISTRICT = 'California';"
      ],
      "execution_count": 0,
      "outputs": []
    }
  ]
}