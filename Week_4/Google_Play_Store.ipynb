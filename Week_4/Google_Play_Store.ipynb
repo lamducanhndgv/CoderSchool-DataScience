{
  "nbformat": 4,
  "nbformat_minor": 0,
  "metadata": {
    "kernelspec": {
      "display_name": "Python 3",
      "language": "python",
      "name": "python3"
    },
    "language_info": {
      "codemirror_mode": {
        "name": "ipython",
        "version": 3
      },
      "file_extension": ".py",
      "mimetype": "text/x-python",
      "name": "python",
      "nbconvert_exporter": "python",
      "pygments_lexer": "ipython3",
      "version": "3.7.3"
    },
    "colab": {
      "name": "Google_Play_Store.ipynb",
      "version": "0.3.2",
      "provenance": [],
      "collapsed_sections": [
        "5qNFDJGV8c2L"
      ]
    }
  },
  "cells": [
    {
      "cell_type": "markdown",
      "metadata": {
        "id": "RWni8YyAJUgj",
        "colab_type": "text"
      },
      "source": [
        "# Team 2 - Google Play Store\n",
        "\n",
        "![](https://www.brandnol.com/wp-content/uploads/2019/04/Google-Play-Store-Search.jpg)\n",
        "\n",
        "_For more information about the dataset, read [here](https://www.kaggle.com/lava18/google-play-store-apps)._\n",
        "\n",
        "## Your tasks\n",
        "- Name your team!\n",
        "- Read the source and do some quick research to understand more about the dataset and its topic\n",
        "- Clean the data\n",
        "- Perform Exploratory Data Analysis on the dataset\n",
        "- Analyze the data more deeply and extract insights\n",
        "- Visualize your analysis on Google Data Studio\n",
        "- Present your works in front of the class and guests next Monday\n",
        "\n",
        "## Submission Guide\n",
        "- Create a Github repository for your project\n",
        "- Upload the dataset (.csv file) and the Jupyter Notebook to your Github repository. In the Jupyter Notebook, **include the link to your Google Data Studio report**.\n",
        "- Submit your works through this [Google Form](https://forms.gle/oxtXpGfS8JapVj3V8).\n",
        "\n",
        "## Tips for Data Cleaning, Manipulation & Visualization\n",
        "- Here are some of our tips for Data Cleaning, Manipulation & Visualization. [Click here](https://hackmd.io/cBNV7E6TT2WMliQC-GTw1A)\n",
        "\n",
        "_____________________________\n",
        "\n",
        "## Some Hints for This Dataset:\n",
        "- There are lots of null values. How should we handle them?\n",
        "- Column `Installs` and `Size` have some strange values. Can you identify them?\n",
        "- Values in `Size` column are currently in different format: `M`, `k`. And how about the value `Varies with device`?\n",
        "- `Price` column is not in the right data type\n",
        "- And more...\n"
      ]
    },
    {
      "cell_type": "markdown",
      "metadata": {
        "id": "Kkef9xKkLR1Q",
        "colab_type": "text"
      },
      "source": [
        "# Import library and Load dataset "
      ]
    },
    {
      "cell_type": "code",
      "metadata": {
        "id": "syijBZCjJUgn",
        "colab_type": "code",
        "colab": {}
      },
      "source": [
        "import numpy as np\n",
        "import pandas as pd\n",
        "import matplotlib.pyplot as plt\n",
        "import seaborn as sns\n"
      ],
      "execution_count": 0,
      "outputs": []
    },
    {
      "cell_type": "code",
      "metadata": {
        "id": "vFKe-r-d6egy",
        "colab_type": "code",
        "colab": {
          "base_uri": "https://localhost:8080/",
          "height": 50
        },
        "outputId": "0d44aed8-2dee-4865-f6ad-e293a4668b66"
      },
      "source": [
        "!pip install -U -q PyDrive\n",
        "from pydrive.auth import GoogleAuth\n",
        "from pydrive.drive import GoogleDrive\n",
        "from google.colab import auth\n",
        "from oauth2client.client import GoogleCredentials"
      ],
      "execution_count": 2,
      "outputs": [
        {
          "output_type": "stream",
          "text": [
            "\u001b[?25l\r\u001b[K     |▎                               | 10kB 18.6MB/s eta 0:00:01\r\u001b[K     |▋                               | 20kB 3.4MB/s eta 0:00:01\r\u001b[K     |█                               | 30kB 4.9MB/s eta 0:00:01\r\u001b[K     |█▎                              | 40kB 3.1MB/s eta 0:00:01\r\u001b[K     |█▋                              | 51kB 3.8MB/s eta 0:00:01\r\u001b[K     |██                              | 61kB 4.6MB/s eta 0:00:01\r\u001b[K     |██▎                             | 71kB 5.2MB/s eta 0:00:01\r\u001b[K     |██▋                             | 81kB 5.9MB/s eta 0:00:01\r\u001b[K     |███                             | 92kB 6.6MB/s eta 0:00:01\r\u001b[K     |███▎                            | 102kB 5.1MB/s eta 0:00:01\r\u001b[K     |███▋                            | 112kB 5.1MB/s eta 0:00:01\r\u001b[K     |████                            | 122kB 5.1MB/s eta 0:00:01\r\u001b[K     |████▎                           | 133kB 5.1MB/s eta 0:00:01\r\u001b[K     |████▋                           | 143kB 5.1MB/s eta 0:00:01\r\u001b[K     |█████                           | 153kB 5.1MB/s eta 0:00:01\r\u001b[K     |█████▎                          | 163kB 5.1MB/s eta 0:00:01\r\u001b[K     |█████▋                          | 174kB 5.1MB/s eta 0:00:01\r\u001b[K     |██████                          | 184kB 5.1MB/s eta 0:00:01\r\u001b[K     |██████▎                         | 194kB 5.1MB/s eta 0:00:01\r\u001b[K     |██████▋                         | 204kB 5.1MB/s eta 0:00:01\r\u001b[K     |███████                         | 215kB 5.1MB/s eta 0:00:01\r\u001b[K     |███████▎                        | 225kB 5.1MB/s eta 0:00:01\r\u001b[K     |███████▋                        | 235kB 5.1MB/s eta 0:00:01\r\u001b[K     |████████                        | 245kB 5.1MB/s eta 0:00:01\r\u001b[K     |████████▎                       | 256kB 5.1MB/s eta 0:00:01\r\u001b[K     |████████▋                       | 266kB 5.1MB/s eta 0:00:01\r\u001b[K     |█████████                       | 276kB 5.1MB/s eta 0:00:01\r\u001b[K     |█████████▎                      | 286kB 5.1MB/s eta 0:00:01\r\u001b[K     |█████████▋                      | 296kB 5.1MB/s eta 0:00:01\r\u001b[K     |██████████                      | 307kB 5.1MB/s eta 0:00:01\r\u001b[K     |██████████▎                     | 317kB 5.1MB/s eta 0:00:01\r\u001b[K     |██████████▋                     | 327kB 5.1MB/s eta 0:00:01\r\u001b[K     |███████████                     | 337kB 5.1MB/s eta 0:00:01\r\u001b[K     |███████████▎                    | 348kB 5.1MB/s eta 0:00:01\r\u001b[K     |███████████▋                    | 358kB 5.1MB/s eta 0:00:01\r\u001b[K     |████████████                    | 368kB 5.1MB/s eta 0:00:01\r\u001b[K     |████████████▎                   | 378kB 5.1MB/s eta 0:00:01\r\u001b[K     |████████████▋                   | 389kB 5.1MB/s eta 0:00:01\r\u001b[K     |█████████████                   | 399kB 5.1MB/s eta 0:00:01\r\u001b[K     |█████████████▎                  | 409kB 5.1MB/s eta 0:00:01\r\u001b[K     |█████████████▋                  | 419kB 5.1MB/s eta 0:00:01\r\u001b[K     |██████████████                  | 430kB 5.1MB/s eta 0:00:01\r\u001b[K     |██████████████▎                 | 440kB 5.1MB/s eta 0:00:01\r\u001b[K     |██████████████▋                 | 450kB 5.1MB/s eta 0:00:01\r\u001b[K     |███████████████                 | 460kB 5.1MB/s eta 0:00:01\r\u001b[K     |███████████████▎                | 471kB 5.1MB/s eta 0:00:01\r\u001b[K     |███████████████▋                | 481kB 5.1MB/s eta 0:00:01\r\u001b[K     |████████████████                | 491kB 5.1MB/s eta 0:00:01\r\u001b[K     |████████████████▎               | 501kB 5.1MB/s eta 0:00:01\r\u001b[K     |████████████████▋               | 512kB 5.1MB/s eta 0:00:01\r\u001b[K     |█████████████████               | 522kB 5.1MB/s eta 0:00:01\r\u001b[K     |█████████████████▎              | 532kB 5.1MB/s eta 0:00:01\r\u001b[K     |█████████████████▋              | 542kB 5.1MB/s eta 0:00:01\r\u001b[K     |██████████████████              | 552kB 5.1MB/s eta 0:00:01\r\u001b[K     |██████████████████▎             | 563kB 5.1MB/s eta 0:00:01\r\u001b[K     |██████████████████▋             | 573kB 5.1MB/s eta 0:00:01\r\u001b[K     |███████████████████             | 583kB 5.1MB/s eta 0:00:01\r\u001b[K     |███████████████████▎            | 593kB 5.1MB/s eta 0:00:01\r\u001b[K     |███████████████████▋            | 604kB 5.1MB/s eta 0:00:01\r\u001b[K     |████████████████████            | 614kB 5.1MB/s eta 0:00:01\r\u001b[K     |████████████████████▎           | 624kB 5.1MB/s eta 0:00:01\r\u001b[K     |████████████████████▋           | 634kB 5.1MB/s eta 0:00:01\r\u001b[K     |█████████████████████           | 645kB 5.1MB/s eta 0:00:01\r\u001b[K     |█████████████████████▎          | 655kB 5.1MB/s eta 0:00:01\r\u001b[K     |█████████████████████▋          | 665kB 5.1MB/s eta 0:00:01\r\u001b[K     |██████████████████████          | 675kB 5.1MB/s eta 0:00:01\r\u001b[K     |██████████████████████▎         | 686kB 5.1MB/s eta 0:00:01\r\u001b[K     |██████████████████████▋         | 696kB 5.1MB/s eta 0:00:01\r\u001b[K     |███████████████████████         | 706kB 5.1MB/s eta 0:00:01\r\u001b[K     |███████████████████████▎        | 716kB 5.1MB/s eta 0:00:01\r\u001b[K     |███████████████████████▋        | 727kB 5.1MB/s eta 0:00:01\r\u001b[K     |████████████████████████        | 737kB 5.1MB/s eta 0:00:01\r\u001b[K     |████████████████████████▎       | 747kB 5.1MB/s eta 0:00:01\r\u001b[K     |████████████████████████▋       | 757kB 5.1MB/s eta 0:00:01\r\u001b[K     |████████████████████████▉       | 768kB 5.1MB/s eta 0:00:01\r\u001b[K     |█████████████████████████▏      | 778kB 5.1MB/s eta 0:00:01\r\u001b[K     |█████████████████████████▌      | 788kB 5.1MB/s eta 0:00:01\r\u001b[K     |█████████████████████████▉      | 798kB 5.1MB/s eta 0:00:01\r\u001b[K     |██████████████████████████▏     | 808kB 5.1MB/s eta 0:00:01\r\u001b[K     |██████████████████████████▌     | 819kB 5.1MB/s eta 0:00:01\r\u001b[K     |██████████████████████████▉     | 829kB 5.1MB/s eta 0:00:01\r\u001b[K     |███████████████████████████▏    | 839kB 5.1MB/s eta 0:00:01\r\u001b[K     |███████████████████████████▌    | 849kB 5.1MB/s eta 0:00:01\r\u001b[K     |███████████████████████████▉    | 860kB 5.1MB/s eta 0:00:01\r\u001b[K     |████████████████████████████▏   | 870kB 5.1MB/s eta 0:00:01\r\u001b[K     |████████████████████████████▌   | 880kB 5.1MB/s eta 0:00:01\r\u001b[K     |████████████████████████████▉   | 890kB 5.1MB/s eta 0:00:01\r\u001b[K     |█████████████████████████████▏  | 901kB 5.1MB/s eta 0:00:01\r\u001b[K     |█████████████████████████████▌  | 911kB 5.1MB/s eta 0:00:01\r\u001b[K     |█████████████████████████████▉  | 921kB 5.1MB/s eta 0:00:01\r\u001b[K     |██████████████████████████████▏ | 931kB 5.1MB/s eta 0:00:01\r\u001b[K     |██████████████████████████████▌ | 942kB 5.1MB/s eta 0:00:01\r\u001b[K     |██████████████████████████████▉ | 952kB 5.1MB/s eta 0:00:01\r\u001b[K     |███████████████████████████████▏| 962kB 5.1MB/s eta 0:00:01\r\u001b[K     |███████████████████████████████▌| 972kB 5.1MB/s eta 0:00:01\r\u001b[K     |███████████████████████████████▉| 983kB 5.1MB/s eta 0:00:01\r\u001b[K     |████████████████████████████████| 993kB 5.1MB/s \n",
            "\u001b[?25h  Building wheel for PyDrive (setup.py) ... \u001b[?25l\u001b[?25hdone\n"
          ],
          "name": "stdout"
        }
      ]
    },
    {
      "cell_type": "code",
      "metadata": {
        "id": "-Xam7_wS6yyV",
        "colab_type": "code",
        "colab": {}
      },
      "source": [
        "auth.authenticate_user()\n",
        "gauth = GoogleAuth()\n",
        "gauth.credentials = GoogleCredentials.get_application_default()\n",
        "drive = GoogleDrive(gauth)"
      ],
      "execution_count": 0,
      "outputs": []
    },
    {
      "cell_type": "code",
      "metadata": {
        "id": "qNTpIaxc67H_",
        "colab_type": "code",
        "colab": {}
      },
      "source": [
        "link_dataset = 'https://drive.google.com/open?id=1c_yQ7RmMeha0y4tyVa8W3VSvWW3ed4dQ'"
      ],
      "execution_count": 0,
      "outputs": []
    },
    {
      "cell_type": "code",
      "metadata": {
        "id": "Al2if2to7Yox",
        "colab_type": "code",
        "colab": {
          "base_uri": "https://localhost:8080/",
          "height": 34
        },
        "outputId": "9b8fc395-3d8d-4b2a-f556-87875a0e73ee"
      },
      "source": [
        "_, id_csv = link_dataset.split(\"=\")\n",
        "\n",
        "id_csv"
      ],
      "execution_count": 5,
      "outputs": [
        {
          "output_type": "execute_result",
          "data": {
            "text/plain": [
              "'1c_yQ7RmMeha0y4tyVa8W3VSvWW3ed4dQ'"
            ]
          },
          "metadata": {
            "tags": []
          },
          "execution_count": 5
        }
      ]
    },
    {
      "cell_type": "code",
      "metadata": {
        "id": "Vxd3Njz27lzr",
        "colab_type": "code",
        "colab": {}
      },
      "source": [
        "downloaded = drive.CreateFile({'id':id_csv}) \n",
        "downloaded.GetContentFile('google_play_store.csv')  \n",
        "# import dataset to Pandas DataFrame\n",
        "\n",
        "GPlay_Store = pd.read_csv('google_play_store.csv')"
      ],
      "execution_count": 0,
      "outputs": []
    },
    {
      "cell_type": "code",
      "metadata": {
        "id": "jZYzPpb38FIh",
        "colab_type": "code",
        "colab": {
          "base_uri": "https://localhost:8080/",
          "height": 296
        },
        "outputId": "a9863b07-c892-4f79-f14c-f32c8a8d49d6"
      },
      "source": [
        "GPlay_Store.head() # check DataFrame"
      ],
      "execution_count": 9,
      "outputs": [
        {
          "output_type": "execute_result",
          "data": {
            "text/html": [
              "<div>\n",
              "<style scoped>\n",
              "    .dataframe tbody tr th:only-of-type {\n",
              "        vertical-align: middle;\n",
              "    }\n",
              "\n",
              "    .dataframe tbody tr th {\n",
              "        vertical-align: top;\n",
              "    }\n",
              "\n",
              "    .dataframe thead th {\n",
              "        text-align: right;\n",
              "    }\n",
              "</style>\n",
              "<table border=\"1\" class=\"dataframe\">\n",
              "  <thead>\n",
              "    <tr style=\"text-align: right;\">\n",
              "      <th></th>\n",
              "      <th>App</th>\n",
              "      <th>Category</th>\n",
              "      <th>Rating</th>\n",
              "      <th>Reviews</th>\n",
              "      <th>Size</th>\n",
              "      <th>Installs</th>\n",
              "      <th>Type</th>\n",
              "      <th>Price</th>\n",
              "      <th>Content Rating</th>\n",
              "      <th>Genres</th>\n",
              "      <th>Last Updated</th>\n",
              "      <th>Current Ver</th>\n",
              "      <th>Android Ver</th>\n",
              "    </tr>\n",
              "  </thead>\n",
              "  <tbody>\n",
              "    <tr>\n",
              "      <th>0</th>\n",
              "      <td>Photo Editor &amp; Candy Camera &amp; Grid &amp; ScrapBook</td>\n",
              "      <td>ART_AND_DESIGN</td>\n",
              "      <td>4.1</td>\n",
              "      <td>159</td>\n",
              "      <td>19M</td>\n",
              "      <td>10,000+</td>\n",
              "      <td>Free</td>\n",
              "      <td>0</td>\n",
              "      <td>Everyone</td>\n",
              "      <td>Art &amp; Design</td>\n",
              "      <td>January 7, 2018</td>\n",
              "      <td>1.0.0</td>\n",
              "      <td>4.0.3 and up</td>\n",
              "    </tr>\n",
              "    <tr>\n",
              "      <th>1</th>\n",
              "      <td>Coloring book moana</td>\n",
              "      <td>ART_AND_DESIGN</td>\n",
              "      <td>3.9</td>\n",
              "      <td>967</td>\n",
              "      <td>14M</td>\n",
              "      <td>500,000+</td>\n",
              "      <td>Free</td>\n",
              "      <td>0</td>\n",
              "      <td>Everyone</td>\n",
              "      <td>Art &amp; Design;Pretend Play</td>\n",
              "      <td>January 15, 2018</td>\n",
              "      <td>2.0.0</td>\n",
              "      <td>4.0.3 and up</td>\n",
              "    </tr>\n",
              "    <tr>\n",
              "      <th>2</th>\n",
              "      <td>U Launcher Lite – FREE Live Cool Themes, Hide ...</td>\n",
              "      <td>ART_AND_DESIGN</td>\n",
              "      <td>4.7</td>\n",
              "      <td>87510</td>\n",
              "      <td>8.7M</td>\n",
              "      <td>5,000,000+</td>\n",
              "      <td>Free</td>\n",
              "      <td>0</td>\n",
              "      <td>Everyone</td>\n",
              "      <td>Art &amp; Design</td>\n",
              "      <td>August 1, 2018</td>\n",
              "      <td>1.2.4</td>\n",
              "      <td>4.0.3 and up</td>\n",
              "    </tr>\n",
              "    <tr>\n",
              "      <th>3</th>\n",
              "      <td>Sketch - Draw &amp; Paint</td>\n",
              "      <td>ART_AND_DESIGN</td>\n",
              "      <td>4.5</td>\n",
              "      <td>215644</td>\n",
              "      <td>25M</td>\n",
              "      <td>50,000,000+</td>\n",
              "      <td>Free</td>\n",
              "      <td>0</td>\n",
              "      <td>Teen</td>\n",
              "      <td>Art &amp; Design</td>\n",
              "      <td>June 8, 2018</td>\n",
              "      <td>Varies with device</td>\n",
              "      <td>4.2 and up</td>\n",
              "    </tr>\n",
              "    <tr>\n",
              "      <th>4</th>\n",
              "      <td>Pixel Draw - Number Art Coloring Book</td>\n",
              "      <td>ART_AND_DESIGN</td>\n",
              "      <td>4.3</td>\n",
              "      <td>967</td>\n",
              "      <td>2.8M</td>\n",
              "      <td>100,000+</td>\n",
              "      <td>Free</td>\n",
              "      <td>0</td>\n",
              "      <td>Everyone</td>\n",
              "      <td>Art &amp; Design;Creativity</td>\n",
              "      <td>June 20, 2018</td>\n",
              "      <td>1.1</td>\n",
              "      <td>4.4 and up</td>\n",
              "    </tr>\n",
              "  </tbody>\n",
              "</table>\n",
              "</div>"
            ],
            "text/plain": [
              "                                                 App  ...   Android Ver\n",
              "0     Photo Editor & Candy Camera & Grid & ScrapBook  ...  4.0.3 and up\n",
              "1                                Coloring book moana  ...  4.0.3 and up\n",
              "2  U Launcher Lite – FREE Live Cool Themes, Hide ...  ...  4.0.3 and up\n",
              "3                              Sketch - Draw & Paint  ...    4.2 and up\n",
              "4              Pixel Draw - Number Art Coloring Book  ...    4.4 and up\n",
              "\n",
              "[5 rows x 13 columns]"
            ]
          },
          "metadata": {
            "tags": []
          },
          "execution_count": 9
        }
      ]
    },
    {
      "cell_type": "markdown",
      "metadata": {
        "id": "5qNFDJGV8c2L",
        "colab_type": "text"
      },
      "source": [
        "# Summary of Dataset"
      ]
    },
    {
      "cell_type": "code",
      "metadata": {
        "id": "xOLe-bJP8qVf",
        "colab_type": "code",
        "colab": {
          "base_uri": "https://localhost:8080/",
          "height": 296
        },
        "outputId": "4c243ab1-b2d1-401f-aea5-c5f603ac0cb0"
      },
      "source": [
        "GPlay_Store.tail()"
      ],
      "execution_count": 10,
      "outputs": [
        {
          "output_type": "execute_result",
          "data": {
            "text/html": [
              "<div>\n",
              "<style scoped>\n",
              "    .dataframe tbody tr th:only-of-type {\n",
              "        vertical-align: middle;\n",
              "    }\n",
              "\n",
              "    .dataframe tbody tr th {\n",
              "        vertical-align: top;\n",
              "    }\n",
              "\n",
              "    .dataframe thead th {\n",
              "        text-align: right;\n",
              "    }\n",
              "</style>\n",
              "<table border=\"1\" class=\"dataframe\">\n",
              "  <thead>\n",
              "    <tr style=\"text-align: right;\">\n",
              "      <th></th>\n",
              "      <th>App</th>\n",
              "      <th>Category</th>\n",
              "      <th>Rating</th>\n",
              "      <th>Reviews</th>\n",
              "      <th>Size</th>\n",
              "      <th>Installs</th>\n",
              "      <th>Type</th>\n",
              "      <th>Price</th>\n",
              "      <th>Content Rating</th>\n",
              "      <th>Genres</th>\n",
              "      <th>Last Updated</th>\n",
              "      <th>Current Ver</th>\n",
              "      <th>Android Ver</th>\n",
              "    </tr>\n",
              "  </thead>\n",
              "  <tbody>\n",
              "    <tr>\n",
              "      <th>10836</th>\n",
              "      <td>Sya9a Maroc - FR</td>\n",
              "      <td>FAMILY</td>\n",
              "      <td>4.5</td>\n",
              "      <td>38</td>\n",
              "      <td>53M</td>\n",
              "      <td>5,000+</td>\n",
              "      <td>Free</td>\n",
              "      <td>0</td>\n",
              "      <td>Everyone</td>\n",
              "      <td>Education</td>\n",
              "      <td>July 25, 2017</td>\n",
              "      <td>1.48</td>\n",
              "      <td>4.1 and up</td>\n",
              "    </tr>\n",
              "    <tr>\n",
              "      <th>10837</th>\n",
              "      <td>Fr. Mike Schmitz Audio Teachings</td>\n",
              "      <td>FAMILY</td>\n",
              "      <td>5.0</td>\n",
              "      <td>4</td>\n",
              "      <td>3.6M</td>\n",
              "      <td>100+</td>\n",
              "      <td>Free</td>\n",
              "      <td>0</td>\n",
              "      <td>Everyone</td>\n",
              "      <td>Education</td>\n",
              "      <td>July 6, 2018</td>\n",
              "      <td>1.0</td>\n",
              "      <td>4.1 and up</td>\n",
              "    </tr>\n",
              "    <tr>\n",
              "      <th>10838</th>\n",
              "      <td>Parkinson Exercices FR</td>\n",
              "      <td>MEDICAL</td>\n",
              "      <td>NaN</td>\n",
              "      <td>3</td>\n",
              "      <td>9.5M</td>\n",
              "      <td>1,000+</td>\n",
              "      <td>Free</td>\n",
              "      <td>0</td>\n",
              "      <td>Everyone</td>\n",
              "      <td>Medical</td>\n",
              "      <td>January 20, 2017</td>\n",
              "      <td>1.0</td>\n",
              "      <td>2.2 and up</td>\n",
              "    </tr>\n",
              "    <tr>\n",
              "      <th>10839</th>\n",
              "      <td>The SCP Foundation DB fr nn5n</td>\n",
              "      <td>BOOKS_AND_REFERENCE</td>\n",
              "      <td>4.5</td>\n",
              "      <td>114</td>\n",
              "      <td>Varies with device</td>\n",
              "      <td>1,000+</td>\n",
              "      <td>Free</td>\n",
              "      <td>0</td>\n",
              "      <td>Mature 17+</td>\n",
              "      <td>Books &amp; Reference</td>\n",
              "      <td>January 19, 2015</td>\n",
              "      <td>Varies with device</td>\n",
              "      <td>Varies with device</td>\n",
              "    </tr>\n",
              "    <tr>\n",
              "      <th>10840</th>\n",
              "      <td>iHoroscope - 2018 Daily Horoscope &amp; Astrology</td>\n",
              "      <td>LIFESTYLE</td>\n",
              "      <td>4.5</td>\n",
              "      <td>398307</td>\n",
              "      <td>19M</td>\n",
              "      <td>10,000,000+</td>\n",
              "      <td>Free</td>\n",
              "      <td>0</td>\n",
              "      <td>Everyone</td>\n",
              "      <td>Lifestyle</td>\n",
              "      <td>July 25, 2018</td>\n",
              "      <td>Varies with device</td>\n",
              "      <td>Varies with device</td>\n",
              "    </tr>\n",
              "  </tbody>\n",
              "</table>\n",
              "</div>"
            ],
            "text/plain": [
              "                                                 App  ...         Android Ver\n",
              "10836                               Sya9a Maroc - FR  ...          4.1 and up\n",
              "10837               Fr. Mike Schmitz Audio Teachings  ...          4.1 and up\n",
              "10838                         Parkinson Exercices FR  ...          2.2 and up\n",
              "10839                  The SCP Foundation DB fr nn5n  ...  Varies with device\n",
              "10840  iHoroscope - 2018 Daily Horoscope & Astrology  ...  Varies with device\n",
              "\n",
              "[5 rows x 13 columns]"
            ]
          },
          "metadata": {
            "tags": []
          },
          "execution_count": 10
        }
      ]
    },
    {
      "cell_type": "code",
      "metadata": {
        "id": "KWRW4CKi8slQ",
        "colab_type": "code",
        "colab": {
          "base_uri": "https://localhost:8080/",
          "height": 319
        },
        "outputId": "815385da-51d6-4820-9a9b-774fc4f506ee"
      },
      "source": [
        "GPlay_Store.info()"
      ],
      "execution_count": 11,
      "outputs": [
        {
          "output_type": "stream",
          "text": [
            "<class 'pandas.core.frame.DataFrame'>\n",
            "RangeIndex: 10841 entries, 0 to 10840\n",
            "Data columns (total 13 columns):\n",
            "App               10841 non-null object\n",
            "Category          10841 non-null object\n",
            "Rating            9367 non-null float64\n",
            "Reviews           10841 non-null object\n",
            "Size              10841 non-null object\n",
            "Installs          10841 non-null object\n",
            "Type              10840 non-null object\n",
            "Price             10841 non-null object\n",
            "Content Rating    10840 non-null object\n",
            "Genres            10841 non-null object\n",
            "Last Updated      10841 non-null object\n",
            "Current Ver       10833 non-null object\n",
            "Android Ver       10838 non-null object\n",
            "dtypes: float64(1), object(12)\n",
            "memory usage: 1.1+ MB\n"
          ],
          "name": "stdout"
        }
      ]
    },
    {
      "cell_type": "code",
      "metadata": {
        "id": "LlBvGVQY8xIK",
        "colab_type": "code",
        "colab": {
          "base_uri": "https://localhost:8080/",
          "height": 284
        },
        "outputId": "49def2f9-d2d2-49c5-a7a3-40d13e5e59bc"
      },
      "source": [
        "GPlay_Store.describe()"
      ],
      "execution_count": 12,
      "outputs": [
        {
          "output_type": "execute_result",
          "data": {
            "text/html": [
              "<div>\n",
              "<style scoped>\n",
              "    .dataframe tbody tr th:only-of-type {\n",
              "        vertical-align: middle;\n",
              "    }\n",
              "\n",
              "    .dataframe tbody tr th {\n",
              "        vertical-align: top;\n",
              "    }\n",
              "\n",
              "    .dataframe thead th {\n",
              "        text-align: right;\n",
              "    }\n",
              "</style>\n",
              "<table border=\"1\" class=\"dataframe\">\n",
              "  <thead>\n",
              "    <tr style=\"text-align: right;\">\n",
              "      <th></th>\n",
              "      <th>Rating</th>\n",
              "    </tr>\n",
              "  </thead>\n",
              "  <tbody>\n",
              "    <tr>\n",
              "      <th>count</th>\n",
              "      <td>9367.000000</td>\n",
              "    </tr>\n",
              "    <tr>\n",
              "      <th>mean</th>\n",
              "      <td>4.193338</td>\n",
              "    </tr>\n",
              "    <tr>\n",
              "      <th>std</th>\n",
              "      <td>0.537431</td>\n",
              "    </tr>\n",
              "    <tr>\n",
              "      <th>min</th>\n",
              "      <td>1.000000</td>\n",
              "    </tr>\n",
              "    <tr>\n",
              "      <th>25%</th>\n",
              "      <td>4.000000</td>\n",
              "    </tr>\n",
              "    <tr>\n",
              "      <th>50%</th>\n",
              "      <td>4.300000</td>\n",
              "    </tr>\n",
              "    <tr>\n",
              "      <th>75%</th>\n",
              "      <td>4.500000</td>\n",
              "    </tr>\n",
              "    <tr>\n",
              "      <th>max</th>\n",
              "      <td>19.000000</td>\n",
              "    </tr>\n",
              "  </tbody>\n",
              "</table>\n",
              "</div>"
            ],
            "text/plain": [
              "            Rating\n",
              "count  9367.000000\n",
              "mean      4.193338\n",
              "std       0.537431\n",
              "min       1.000000\n",
              "25%       4.000000\n",
              "50%       4.300000\n",
              "75%       4.500000\n",
              "max      19.000000"
            ]
          },
          "metadata": {
            "tags": []
          },
          "execution_count": 12
        }
      ]
    },
    {
      "cell_type": "markdown",
      "metadata": {
        "id": "TCKXShes9kC6",
        "colab_type": "text"
      },
      "source": [
        "# Pre-processing dataset"
      ]
    },
    {
      "cell_type": "code",
      "metadata": {
        "id": "Th30y8XP9X8v",
        "colab_type": "code",
        "colab": {}
      },
      "source": [
        "# Standardlize type of Price\n",
        "GPlay_Store['Price'] = GPlay_Store['Price'].apply(lambda x : x[1:] if x[0] == '$' else (x if x[0].isdigit() else 0)).astype('float')"
      ],
      "execution_count": 0,
      "outputs": []
    },
    {
      "cell_type": "code",
      "metadata": {
        "id": "4bNVjF6c9zsL",
        "colab_type": "code",
        "colab": {}
      },
      "source": [
        "# Columns \"Type\" do not give any informations => drop it\n",
        "GPlay_Store.drop(columns='Type', inplace = True)\n"
      ],
      "execution_count": 0,
      "outputs": []
    },
    {
      "cell_type": "code",
      "metadata": {
        "id": "vz5Cg240_w9F",
        "colab_type": "code",
        "colab": {}
      },
      "source": [
        "# There is a outlier in 'Rating', which has rating point 19\n",
        "GPlay_Store.drop(labels = GPlay_Store[GPlay_Store['Rating'] == 19].index, inplace = True)"
      ],
      "execution_count": 0,
      "outputs": []
    },
    {
      "cell_type": "code",
      "metadata": {
        "id": "oVR73xN4D_ea",
        "colab_type": "code",
        "colab": {
          "base_uri": "https://localhost:8080/",
          "height": 50
        },
        "outputId": "e8e9427c-646f-4cdd-8584-5204c1565b0a"
      },
      "source": [
        "GPlay_Store['Content Rating'].unique()"
      ],
      "execution_count": 54,
      "outputs": [
        {
          "output_type": "execute_result",
          "data": {
            "text/plain": [
              "array(['Everyone', 'Teen', 'Everyone 10+', 'Mature 17+',\n",
              "       'Adults only 18+', 'Unrated'], dtype=object)"
            ]
          },
          "metadata": {
            "tags": []
          },
          "execution_count": 54
        }
      ]
    },
    {
      "cell_type": "code",
      "metadata": {
        "id": "lBm1QCPQEFSj",
        "colab_type": "code",
        "colab": {}
      },
      "source": [
        ""
      ],
      "execution_count": 0,
      "outputs": []
    }
  ]
}